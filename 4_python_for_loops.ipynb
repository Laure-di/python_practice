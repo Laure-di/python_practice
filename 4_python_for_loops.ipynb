{
 "cells": [
  {
   "cell_type": "markdown",
   "id": "19464cb9",
   "metadata": {},
   "source": [
    "# Python For Loops\n",
    "\n",
    "Practice exercises for for using loops with Python.\n",
    "\n",
    "## Prerequisites\n",
    "\n",
    "In order to complete these exercises, you should know how to:\n",
    "- Create variables\n",
    "- Use print statements (to print strings and variables)\n",
    "- Use basic mathematic operators (`+`, `-`, `*`, `/`, `%` etc.)\n",
    "- Use relational operators ( `>`, `<`, `==`, `>=`, `<=`, `!=`)\n",
    "- Use logical operators (`and`, `or`, `not`)\n",
    "- Create functions\n",
    "- Use if, else and elif statements\n",
    "- Use for loops\n",
    "- Use while loops\n",
    "- Use range()"
   ]
  },
  {
   "cell_type": "markdown",
   "id": "5cc9cee9",
   "metadata": {},
   "source": [
    "### Exercise 1\n",
    "\n",
    "Below is python code using a while loop. Rewrite it using a for loop. Ensure it has the same output as the original code."
   ]
  },
  {
   "cell_type": "code",
   "execution_count": 1,
   "id": "cf2c5134",
   "metadata": {},
   "outputs": [
    {
     "name": "stdout",
     "output_type": "stream",
     "text": [
      "The square of 0 is 0\n",
      "The square of 1 is 1\n",
      "The square of 2 is 4\n",
      "The square of 3 is 9\n",
      "The square of 4 is 16\n",
      "The square of 5 is 25\n",
      "The square of 6 is 36\n",
      "The square of 7 is 49\n",
      "The square of 8 is 64\n",
      "The square of 9 is 81\n"
     ]
    }
   ],
   "source": [
    "i = 0  \n",
    "  \n",
    "while (i<10):  \n",
    "    print(\"The square of\", i, \"is\", i*i)\n",
    "    i+=1  \n",
    "    \n",
    "# your code here"
   ]
  },
  {
   "cell_type": "markdown",
   "id": "13ba7556",
   "metadata": {},
   "source": [
    "### Exercise 2\n",
    "\n",
    "Write a python function that takes two integer values as arguments, which represent a range. Print an error message if the second value is not greater than the first. Otherwise, use a loop to calculate and print the sum of the integers in that range.\n",
    "\n",
    "Call the function **range_sum()**"
   ]
  },
  {
   "cell_type": "code",
   "execution_count": 2,
   "id": "5393aa66",
   "metadata": {},
   "outputs": [],
   "source": []
  },
  {
   "cell_type": "markdown",
   "id": "d581b44f",
   "metadata": {},
   "source": [
    "### Exercise 3\n",
    "\n",
    "Write a python function that receives a whole number as an argument, and then based on that number uses nested loops to print the following asterisk triangle pattern. When receiving an argument of `5`, it should print:\n",
    "\n",
    "```\n",
    "    *\n",
    "   **\n",
    "  ***\n",
    " ****\n",
    "*****\n",
    "```\n",
    "\n",
    "Call the function **print_triangle()**."
   ]
  },
  {
   "cell_type": "code",
   "execution_count": null,
   "id": "aaef32c4",
   "metadata": {},
   "outputs": [],
   "source": []
  },
  {
   "cell_type": "markdown",
   "id": "85b56cb2",
   "metadata": {},
   "source": [
    "### Exercise 4\n",
    "\n",
    "Write python code that prints the following table showing the results of multiplying each row and colum header. Pay attention to the alignment of the numbers.\n",
    "\n",
    "```\n",
    "1   2   3   4   5   6   7   8   9   \n",
    "2   4   6   8   10  12  14  16  18  \n",
    "3   6   9   12  15  18  21  24  27  \n",
    "4   8   12  16  20  24  28  32  36  \n",
    "5   10  15  20  25  30  35  40  45  \n",
    "6   12  18  24  30  36  42  48  54  \n",
    "7   14  21  28  35  42  49  56  63  \n",
    "8   16  24  32  40  48  56  64  72  \n",
    "9   18  27  36  45  54  63  72  81  \n",
    "```"
   ]
  },
  {
   "cell_type": "code",
   "execution_count": null,
   "id": "284cf690",
   "metadata": {},
   "outputs": [],
   "source": []
  },
  {
   "cell_type": "markdown",
   "id": "0c4d8e57",
   "metadata": {},
   "source": [
    "### Exercise 5\n",
    "\n",
    "Write a python function that receives a whole number as an argument, and calculates and returns its factorial. The factorial is defined as follows:\n",
    "\n",
    "```\n",
    "n * (n - 1) * (n-2) * (n-3) * ... * (1).\n",
    "\n",
    "```\n",
    "\n",
    "The factorial of 7, for example, is:\n",
    "\n",
    "```\n",
    "7 * 6 * 5 * 4 * 3 * 2 * 1 = 5040\n",
    "```\n",
    "\n",
    "Note that there is a special case: the factorial of 0 is 1.\n",
    "\n",
    "Call your function **calculate_factorial()**"
   ]
  },
  {
   "cell_type": "code",
   "execution_count": null,
   "id": "08a8c395",
   "metadata": {},
   "outputs": [],
   "source": []
  },
  {
   "cell_type": "markdown",
   "id": "31101c21",
   "metadata": {},
   "source": [
    "### Exercise 6\n",
    "\n",
    "\n",
    "Create a function `countdown()` that receives a number as an argument, and then prints a countdown based on that number. For an argument of `5` it should print:\n",
    "\n",
    "```\n",
    "Counting down...\n",
    "5\n",
    "4\n",
    "3\n",
    "2\n",
    "1\n",
    "Go!\n",
    "```"
   ]
  },
  {
   "cell_type": "code",
   "execution_count": null,
   "id": "5952c02f",
   "metadata": {},
   "outputs": [],
   "source": []
  },
  {
   "cell_type": "markdown",
   "id": "e0bc19e8",
   "metadata": {},
   "source": [
    "### Exercise 7\n",
    "\n",
    "Write a python function that receives a whole number as an argument, and then based on that number uses nested loops to print the following pattern. When receiving an argument of `5`, it should print:\n",
    "\n",
    "```\n",
    "1\n",
    "12\n",
    "123\n",
    "1234\n",
    "12345\n",
    "```\n",
    "\n",
    "Call the function **print_pattern()**\n",
    "\n",
    "*Note: to tell a print statement not to print a new line at the end of itself, use an end argument as follows: `print(\"hello\" end=\"\")`*"
   ]
  },
  {
   "cell_type": "code",
   "execution_count": null,
   "id": "421986e9",
   "metadata": {},
   "outputs": [],
   "source": []
  },
  {
   "cell_type": "markdown",
   "id": "a52ae9bf",
   "metadata": {},
   "source": [
    "### Exercise 8\n",
    "\n",
    "Write a python function that receives a whole number as an argument, and then based on that number prints out only the even numbers in the range from 0 to that number. Use the `continue` statement to achieve this. Also, use a `break` statement to avoid printing any numbers higher than 10, and print out an appropriate message.\n",
    "\n",
    "For an argument of `13`, the output should be as follows:\n",
    "\n",
    "```\n",
    "2\n",
    "4\n",
    "6\n",
    "8\n",
    "10\n",
    "Exiting\n",
    "```"
   ]
  },
  {
   "cell_type": "code",
   "execution_count": null,
   "id": "c73d6262",
   "metadata": {},
   "outputs": [],
   "source": []
  },
  {
   "cell_type": "markdown",
   "id": "a53c6fb8",
   "metadata": {},
   "source": [
    "### Exercise 9\n",
    "\n",
    "The code below prompts the user to input a whole number from 1 to 5. If the user enters a number that is not within this range, use a while loop to prompt them to re-enter a number until an appropriate value is entered. \n",
    "\n",
    "When an appropriate number is received, print the number in word form, e.g. for the number `4`, print `four`.\n",
    "\n",
    "Note: By default, all input values convert to a string variable. Note the use of `int(num)` to convert this to an integer variable."
   ]
  },
  {
   "cell_type": "code",
   "execution_count": null,
   "id": "6c3e24aa",
   "metadata": {},
   "outputs": [],
   "source": [
    "num = input(\"Enter a whole number from 1 to 5: \")\n",
    "num = int(num)\n",
    "\n",
    "# your code here"
   ]
  },
  {
   "cell_type": "code",
   "execution_count": null,
   "id": "ebd51f4a",
   "metadata": {},
   "outputs": [],
   "source": []
  },
  {
   "cell_type": "code",
   "execution_count": null,
   "id": "6de8c887",
   "metadata": {},
   "outputs": [],
   "source": []
  }
 ],
 "metadata": {
  "kernelspec": {
   "display_name": "Python 3 (ipykernel)",
   "language": "python",
   "name": "python3"
  },
  "language_info": {
   "codemirror_mode": {
    "name": "ipython",
    "version": 3
   },
   "file_extension": ".py",
   "mimetype": "text/x-python",
   "name": "python",
   "nbconvert_exporter": "python",
   "pygments_lexer": "ipython3",
   "version": "3.10.9"
  }
 },
 "nbformat": 4,
 "nbformat_minor": 5
}
