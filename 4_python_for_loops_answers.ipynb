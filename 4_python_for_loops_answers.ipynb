{
 "cells": [
  {
   "cell_type": "markdown",
   "id": "19464cb9",
   "metadata": {},
   "source": [
    "# Python For Loops Answers\n",
    "\n",
    "Practice exercises for for using loops with Python.\n",
    "\n",
    "## Prerequisites\n",
    "\n",
    "In order to complete these exercises, you should know how to:\n",
    "- Create variables\n",
    "- Use print statements (to print strings and variables)\n",
    "- Use basic mathematic operators (`+`, `-`, `*`, `/`, `%` etc.)\n",
    "- Use relational operators ( `>`, `<`, `==`, `>=`, `<=`, `!=`)\n",
    "- Use logical operators (`and`, `or`, `not`)\n",
    "- Create functions\n",
    "- Use if, else and elif statements\n",
    "- Use for loops\n",
    "- Use while loops\n",
    "- Use range()"
   ]
  },
  {
   "cell_type": "markdown",
   "id": "fec93de1",
   "metadata": {},
   "source": [
    "## For loops with strings"
   ]
  },
  {
   "cell_type": "markdown",
   "id": "08486267",
   "metadata": {},
   "source": [
    "### Exercise 1\n",
    "\n",
    "Write a Python function `get_length()` which takes a word as an argument, and returns the length of the word. Use a for loop to find the length.\n",
    "\n",
    "#### Going further\n",
    "Modify the function so that it takes two arguments: a word and a character. As well as returning the length of the word, it also returns a count of how many times the character is in the word."
   ]
  },
  {
   "cell_type": "code",
   "execution_count": 72,
   "id": "974f3d69",
   "metadata": {},
   "outputs": [
    {
     "data": {
      "text/plain": [
       "5"
      ]
     },
     "execution_count": 72,
     "metadata": {},
     "output_type": "execute_result"
    }
   ],
   "source": [
    "## ANSWER EXERCISE 1\n",
    "\n",
    "def get_length(word):\n",
    "    length = 0\n",
    "    for letter in word:\n",
    "        length+=1\n",
    "    return length\n",
    "\n",
    "get_length(\"hello\")"
   ]
  },
  {
   "cell_type": "code",
   "execution_count": 42,
   "id": "6841a3f2",
   "metadata": {},
   "outputs": [
    {
     "data": {
      "text/plain": [
       "(5, 1)"
      ]
     },
     "execution_count": 42,
     "metadata": {},
     "output_type": "execute_result"
    }
   ],
   "source": [
    "## ANSWER EXERCISE 1 GOING FURTHER\n",
    "\n",
    "def analyse_word(word, character):\n",
    "    length = 0\n",
    "    char_count = 0\n",
    "    for letter in word:\n",
    "        length+=1\n",
    "        if letter == character:\n",
    "            char_count +=1\n",
    "    return length, char_count\n",
    "\n",
    "analyse_word(\"hello\", \"e\")"
   ]
  },
  {
   "cell_type": "markdown",
   "id": "5cc9cee9",
   "metadata": {},
   "source": [
    "### Exercise 2\n",
    "\n",
    "Write a Python function `replace_e()` which takes a word as an argument. It replaces every occurence of the letter e with an \"!\" character, and returns the modified word. For 'elephant' it should return '!l!phant'\n",
    "\n",
    "Hint: Try using += on a string variable. What does it do?\n",
    "\n",
    "#### Going further\n",
    "Can your function recognse capital letters as valid occurences of the letter e? If not, make sure it does. Hint: use an inbuilt string function."
   ]
  },
  {
   "cell_type": "code",
   "execution_count": 43,
   "id": "0091c8c6",
   "metadata": {},
   "outputs": [
    {
     "data": {
      "text/plain": [
       "'!l!phant'"
      ]
     },
     "execution_count": 43,
     "metadata": {},
     "output_type": "execute_result"
    }
   ],
   "source": [
    "## ANSWER EXERCISE 2\n",
    "\n",
    "def replace_e(word):\n",
    "    new_word = \"\"\n",
    "    for letter in word:\n",
    "        if letter != \"e\":\n",
    "            new_word+=letter\n",
    "        else:\n",
    "            new_word+= \"!\"\n",
    "    return new_word\n",
    "\n",
    "replace_e(\"elephant\")"
   ]
  },
  {
   "cell_type": "code",
   "execution_count": 44,
   "id": "0b530e84",
   "metadata": {},
   "outputs": [
    {
     "data": {
      "text/plain": [
       "'!l!pHant'"
      ]
     },
     "execution_count": 44,
     "metadata": {},
     "output_type": "execute_result"
    }
   ],
   "source": [
    "## ANSWER EXERCISE 2 GOING FURTHER\n",
    "\n",
    "def replace_e(word):\n",
    "    new_word = \"\"\n",
    "    for letter in word:\n",
    "        if letter.lower() != \"e\":\n",
    "            new_word+=letter\n",
    "        else:\n",
    "            new_word+= \"!\"\n",
    "    return new_word\n",
    "\n",
    "replace_e(\"ElepHant\")"
   ]
  },
  {
   "cell_type": "markdown",
   "id": "e2a71faf",
   "metadata": {},
   "source": [
    "### Exercise 3\n",
    "\n",
    "Write a Python function `reverse()` which takes a word and returns its reverse. For \"elephant\" it should return \"tnahphele\"\n",
    "\n"
   ]
  },
  {
   "cell_type": "code",
   "execution_count": 45,
   "id": "36e6237d",
   "metadata": {},
   "outputs": [
    {
     "data": {
      "text/plain": [
       "'tnahpele'"
      ]
     },
     "execution_count": 45,
     "metadata": {},
     "output_type": "execute_result"
    }
   ],
   "source": [
    "## ANSWER EXERCISE 3\n",
    "\n",
    "def reverse(word):\n",
    "    reversed_word = \"\"\n",
    "    for letter in word:\n",
    "        reversed_word = letter + reversed_word\n",
    "    return reversed_word\n",
    "\n",
    "reverse(\"elephant\")"
   ]
  },
  {
   "cell_type": "markdown",
   "id": "b2b0cf35",
   "metadata": {},
   "source": [
    "## For loops with lists"
   ]
  },
  {
   "cell_type": "markdown",
   "id": "09b6566e",
   "metadata": {},
   "source": [
    "### Exercise 4\n",
    "\n",
    "Write a Python function `sum_list()` which takes a list of numbers as an argument and returns the sum of all the numbers in the list. Use a for loop to calculate the sum.\n",
    "\n",
    "For the list `[5, 1, 6, 2, 3, 19]` it should return `36`\n",
    "\n",
    "#### Going further\n",
    "\n",
    "Modify the function so that as well as the sum, it also calculates and returns the average number, and the highest number. For the list above, the average number is 6 and the highest is 19, so it should return `(36, 6, 19)`. Do not use any inbuilt Python functions."
   ]
  },
  {
   "cell_type": "code",
   "execution_count": 60,
   "id": "268056d1",
   "metadata": {},
   "outputs": [
    {
     "data": {
      "text/plain": [
       "36"
      ]
     },
     "execution_count": 60,
     "metadata": {},
     "output_type": "execute_result"
    }
   ],
   "source": [
    "## ANSWER EXERCISE 4\n",
    "\n",
    "def sum_list(ls):\n",
    "    sum_ls = 0\n",
    "    for num in ls:\n",
    "        sum_ls += num\n",
    "    return sum_ls\n",
    "\n",
    "sum_list([5, 1, 6, 2, 3, 19])"
   ]
  },
  {
   "cell_type": "code",
   "execution_count": 61,
   "id": "08c2c201",
   "metadata": {},
   "outputs": [
    {
     "data": {
      "text/plain": [
       "(36, 6.0, 19)"
      ]
     },
     "execution_count": 61,
     "metadata": {},
     "output_type": "execute_result"
    }
   ],
   "source": [
    "## ANSWER EXERCISE 4 GOING FURTHER\n",
    "\n",
    "def analyse_list(ls):\n",
    "    sum_ls = 0\n",
    "    len_ls = 0\n",
    "    max_ls = 0\n",
    "    for num in ls:\n",
    "        sum_ls += num\n",
    "        len_ls +=1\n",
    "        if num > max_ls:\n",
    "            max_ls = num\n",
    "    return sum_ls, sum_ls/len_ls, max_ls\n",
    "\n",
    "analyse_list([5, 1, 6, 2, 3, 19])"
   ]
  },
  {
   "cell_type": "markdown",
   "id": "27ea9033",
   "metadata": {},
   "source": [
    "### Exercise 5\n",
    "\n",
    "Write a Python function `even_odd()` which takes a list of numbers as an argument and prints out every even number from the list. It also returns two numbers: the first a count of how many even numbers are in the list, and the second a count of  how many odd numbers are in the list.\n",
    "\n",
    "For the list `[5, 1, 6, 2, 3, 19]` it should return `(2, 4)` and print:\n",
    "\n",
    "```\n",
    "6\n",
    "2\n",
    "```\n",
    "\n",
    "Use a for loop."
   ]
  },
  {
   "cell_type": "code",
   "execution_count": 73,
   "id": "3865127e",
   "metadata": {},
   "outputs": [
    {
     "name": "stdout",
     "output_type": "stream",
     "text": [
      "6\n",
      "2\n"
     ]
    },
    {
     "data": {
      "text/plain": [
       "(2, 4)"
      ]
     },
     "execution_count": 73,
     "metadata": {},
     "output_type": "execute_result"
    }
   ],
   "source": [
    "## ANSWER EXERCISE 5\n",
    "\n",
    "def even_odd(ls):\n",
    "    even_count = 0\n",
    "    odd_count = 0\n",
    "    for num in ls:\n",
    "        if num%2 == 0:\n",
    "            even_count +=1\n",
    "            print(num)\n",
    "        else:\n",
    "            odd_count +=1\n",
    "    return even_count, odd_count\n",
    "\n",
    "even_odd([5, 1, 6, 2, 3, 19])"
   ]
  },
  {
   "cell_type": "markdown",
   "id": "ec535c8c",
   "metadata": {},
   "source": [
    "### Exercise 6\n",
    "\n",
    "Write a Python function `analyse_words()` which takes a list of strings as an argument and returns two things: the number of words in the list, and the number of times the letter \"e\" appears in all the words. Do not use any inbuilt functions. Hint: you may need two loops.\n",
    "\n",
    "For `['elephant', 'monkey', 'emu', 'crocodile', 'tiger']` it should return `(5,6)`"
   ]
  },
  {
   "cell_type": "code",
   "execution_count": 68,
   "id": "1793c2af",
   "metadata": {},
   "outputs": [
    {
     "data": {
      "text/plain": [
       "(5, 6)"
      ]
     },
     "execution_count": 68,
     "metadata": {},
     "output_type": "execute_result"
    }
   ],
   "source": [
    "## ANSWER EXERCISE 6\n",
    "\n",
    "def analyse_words(ls):\n",
    "    count_wds = 0\n",
    "    count_e = 0\n",
    "    for word in ls:\n",
    "        count_wds +=1\n",
    "        for letter in word:\n",
    "            if letter.lower() == 'e':\n",
    "                count_e +=1\n",
    "    return count_wds, count_e\n",
    "\n",
    "analyse_words(['elephant', 'monkey', 'emu', 'crocodile', 'tiger'])"
   ]
  },
  {
   "cell_type": "markdown",
   "id": "39fc9a8d",
   "metadata": {},
   "source": [
    "## For loops with range()"
   ]
  },
  {
   "cell_type": "markdown",
   "id": "56076ccc",
   "metadata": {},
   "source": [
    "### Exercise 7\n",
    "\n",
    "Below is python code using a while loop. Rewrite it using a for loop. Ensure it has the same output as the original code."
   ]
  },
  {
   "cell_type": "code",
   "execution_count": 69,
   "id": "cf2c5134",
   "metadata": {},
   "outputs": [
    {
     "name": "stdout",
     "output_type": "stream",
     "text": [
      "The square of 0 is 0\n",
      "The square of 1 is 1\n",
      "The square of 2 is 4\n",
      "The square of 3 is 9\n",
      "The square of 4 is 16\n",
      "The square of 5 is 25\n",
      "The square of 6 is 36\n",
      "The square of 7 is 49\n",
      "The square of 8 is 64\n",
      "The square of 9 is 81\n"
     ]
    }
   ],
   "source": [
    "i = 0  \n",
    "  \n",
    "while (i<10):  \n",
    "    print(\"The square of\", i, \"is\", i*i)\n",
    "    i+=1  \n",
    "    \n",
    "# your code here"
   ]
  },
  {
   "cell_type": "code",
   "execution_count": 70,
   "id": "4d2d11dc",
   "metadata": {},
   "outputs": [
    {
     "name": "stdout",
     "output_type": "stream",
     "text": [
      "The square of 0 is 0\n",
      "The square of 1 is 1\n",
      "The square of 2 is 4\n",
      "The square of 3 is 9\n",
      "The square of 4 is 16\n",
      "The square of 5 is 25\n",
      "The square of 6 is 36\n",
      "The square of 7 is 49\n",
      "The square of 8 is 64\n",
      "The square of 9 is 81\n"
     ]
    }
   ],
   "source": [
    "# ANSWER EXERCISE 7\n",
    "\n",
    "for i in range(10):\n",
    "    print(\"The square of\", i, \"is\", i*i)\n",
    "    i+=1"
   ]
  },
  {
   "cell_type": "markdown",
   "id": "13ba7556",
   "metadata": {},
   "source": [
    "### Exercise 8\n",
    "\n",
    "Write a python function `range_sum()` that takes two integer values as arguments, which represent a range. Print an error message if the second value is not greater than the first. Otherwise, use a loop to calculate and print the sum of the integers in that range.\n",
    "\n",
    "When called with the values `2` and `7`, the calculation will be `2 + 3 + 4 + 5 + 6 = 20`, so the function should return `20`.\n",
    "\n",
    "Hint: when passing two arguments to range(), the first represents the start of the range, and the second indicates that the range stops before this number. "
   ]
  },
  {
   "cell_type": "code",
   "execution_count": 71,
   "id": "5393aa66",
   "metadata": {},
   "outputs": [
    {
     "data": {
      "text/plain": [
       "20"
      ]
     },
     "execution_count": 71,
     "metadata": {},
     "output_type": "execute_result"
    }
   ],
   "source": [
    "## ANSWER EXERCISE 8\n",
    "\n",
    "def range_sum(a, b):\n",
    "    if b<=a:\n",
    "        print(\"Error: second number must be greater than the first\")\n",
    "        return\n",
    "    else:\n",
    "        sum = 0\n",
    "        for i in range(a, b):\n",
    "            sum+=i\n",
    "        return sum\n",
    "\n",
    "range_sum(2, 7)"
   ]
  },
  {
   "cell_type": "markdown",
   "id": "31101c21",
   "metadata": {},
   "source": [
    "### Exercise 9\n",
    "\n",
    "\n",
    "Create a function `countdown()` that receives a number as an argument, and then prints a countdown based on that number. For an argument of `5` it should print:\n",
    "\n",
    "```\n",
    "Counting down...\n",
    "5\n",
    "4\n",
    "3\n",
    "2\n",
    "1\n",
    "Go!\n",
    "```\n",
    "\n",
    "Hint: when passing three arguments to range(), the third argument represents the step size:\n",
    "`range(0,10,2)` gives a range of `0, 2, 4, 6, 8`\n",
    "`range(10,0,-2)` gives a range of `10, 8, 6, 4, 2`"
   ]
  },
  {
   "cell_type": "code",
   "execution_count": 82,
   "id": "64ed82f8",
   "metadata": {},
   "outputs": [
    {
     "name": "stdout",
     "output_type": "stream",
     "text": [
      "Counting down...\n",
      "5\n",
      "4\n",
      "3\n",
      "2\n",
      "1\n",
      "Go!\n"
     ]
    }
   ],
   "source": [
    "## ANSWER EXERCISE 9\n",
    "\n",
    "def countdown(num):\n",
    "    print('Counting down...')\n",
    "    for i in range(num,0,-1):\n",
    "        print(i)\n",
    "    print(\"Go!\")\n",
    "    \n",
    "countdown(5)"
   ]
  },
  {
   "cell_type": "markdown",
   "id": "0c4d8e57",
   "metadata": {},
   "source": [
    "### Exercise 10\n",
    "\n",
    "Write a python function that receives a whole number as an argument, and prints its factorial. The factorial is defined as follows:\n",
    "\n",
    "```\n",
    "n * (n - 1) * (n-2) * (n-3) * ... * (1).\n",
    "\n",
    "```\n",
    "\n",
    "The factorial of 7, for example, is:\n",
    "\n",
    "```\n",
    "7 * 6 * 5 * 4 * 3 * 2 * 1 = 5040\n",
    "```\n",
    "\n",
    "It should print `The factorial of 7 is 5040`\n",
    "\n",
    "Note that there is a special case: the factorial of 0 is 1.\n",
    "\n",
    "Call your function **calculate_factorial()**"
   ]
  },
  {
   "cell_type": "code",
   "execution_count": 106,
   "id": "acb72972",
   "metadata": {},
   "outputs": [
    {
     "name": "stdout",
     "output_type": "stream",
     "text": [
      "The factorial of 7 is 5040\n"
     ]
    }
   ],
   "source": [
    "## ANSWER EXERCISE 10\n",
    "\n",
    "def calculate_factorial(n):\n",
    "    if n == 0:\n",
    "        print(\"The factorial of 0 is 1\")\n",
    "    else:\n",
    "        factorial=n\n",
    "        for i in range(n-1, 0, -1):\n",
    "            factorial = factorial*i\n",
    "        print(\"The factorial of\", n, \"is\", factorial)\n",
    "\n",
    "calculate_factorial(7)"
   ]
  },
  {
   "cell_type": "markdown",
   "id": "27979cd5",
   "metadata": {},
   "source": [
    "## Nested for loops with range()"
   ]
  },
  {
   "cell_type": "markdown",
   "id": "e0bc19e8",
   "metadata": {},
   "source": [
    "### Exercise 11\n",
    "\n",
    "Write a python function that receives a whole number as an argument, and then based on that number uses nested loops to print the following pattern. When receiving an argument of `5`, it should print:\n",
    "\n",
    "```\n",
    "1\n",
    "12\n",
    "123\n",
    "1234\n",
    "12345\n",
    "```\n",
    "\n",
    "Call the function **print_pattern()**\n",
    "\n",
    "*Note: to tell a print statement not to print a new line at the end of itself, use an end argument as follows: `print(\"hello\", end=\"\")`*"
   ]
  },
  {
   "cell_type": "code",
   "execution_count": 107,
   "id": "97ee9df6",
   "metadata": {},
   "outputs": [
    {
     "name": "stdout",
     "output_type": "stream",
     "text": [
      "1\n",
      "12\n",
      "123\n",
      "1234\n",
      "12345\n"
     ]
    }
   ],
   "source": [
    "## ANSWER EXERCISE 11\n",
    "\n",
    "def print_pattern(num):\n",
    "    for i in range(1, num+1):\n",
    "        for j in range(1, i+1):\n",
    "            print(j, end=\"\")\n",
    "        print(\"\")\n",
    "        \n",
    "print_pattern(5)"
   ]
  },
  {
   "cell_type": "markdown",
   "id": "d581b44f",
   "metadata": {},
   "source": [
    "### Exercise 12\n",
    "\n",
    "Write a python function `print_triangle()` that receives a whole number as an argument, and then based on that number uses nested loops to print the following asterisk triangle pattern. When receiving an argument of `5`, it should print:\n",
    "\n",
    "```\n",
    "    *\n",
    "   **\n",
    "  ***\n",
    " ****\n",
    "*****\n",
    "```"
   ]
  },
  {
   "cell_type": "code",
   "execution_count": 108,
   "id": "aaef32c4",
   "metadata": {},
   "outputs": [
    {
     "name": "stdout",
     "output_type": "stream",
     "text": [
      "    *\n",
      "   **\n",
      "  ***\n",
      " ****\n",
      "*****\n"
     ]
    }
   ],
   "source": [
    "## ANSWER EXERCISE 12\n",
    "\n",
    "def print_triangle(num):\n",
    "    for i in range(1, num+1):\n",
    "        spaces= num-i\n",
    "        for j in range(1, spaces+1):\n",
    "            print(\" \", end=\"\")\n",
    "        for k in range(i):\n",
    "            print(\"*\", end=\"\")\n",
    "        print()\n",
    "\n",
    "print_triangle(5)"
   ]
  },
  {
   "cell_type": "markdown",
   "id": "85b56cb2",
   "metadata": {},
   "source": [
    "### Exercise 13\n",
    "\n",
    "Write python code that prints the following table showing the results of multiplying each row and colum header. Pay attention to the alignment of the numbers.\n",
    "\n",
    "```\n",
    "1   2   3   4   5   6   7   8   9   \n",
    "2   4   6   8   10  12  14  16  18  \n",
    "3   6   9   12  15  18  21  24  27  \n",
    "4   8   12  16  20  24  28  32  36  \n",
    "5   10  15  20  25  30  35  40  45  \n",
    "6   12  18  24  30  36  42  48  54  \n",
    "7   14  21  28  35  42  49  56  63  \n",
    "8   16  24  32  40  48  56  64  72  \n",
    "9   18  27  36  45  54  63  72  81  \n",
    "```"
   ]
  },
  {
   "cell_type": "code",
   "execution_count": 109,
   "id": "284cf690",
   "metadata": {},
   "outputs": [
    {
     "name": "stdout",
     "output_type": "stream",
     "text": [
      "1   2   3   4   5   6   7   8   9   \n",
      "2   4   6   8   10  12  14  16  18  \n",
      "3   6   9   12  15  18  21  24  27  \n",
      "4   8   12  16  20  24  28  32  36  \n",
      "5   10  15  20  25  30  35  40  45  \n",
      "6   12  18  24  30  36  42  48  54  \n",
      "7   14  21  28  35  42  49  56  63  \n",
      "8   16  24  32  40  48  56  64  72  \n",
      "9   18  27  36  45  54  63  72  81  \n"
     ]
    }
   ],
   "source": [
    "## ANSWER EXERCISE 13\n",
    "\n",
    "for i in range (1, 10):\n",
    "    counter=1\n",
    "    for j in range (1, 10):\n",
    "        num_to_print=i*counter\n",
    "        if len(str(num_to_print))==1:\n",
    "            print(num_to_print, \"  \", end=\"\")\n",
    "        else:\n",
    "            print(num_to_print, \" \", end=\"\")\n",
    "        counter+=1\n",
    "    print()"
   ]
  },
  {
   "cell_type": "markdown",
   "id": "8cdbfd5d",
   "metadata": {},
   "source": [
    "## For loops with range() and break/continue"
   ]
  },
  {
   "cell_type": "markdown",
   "id": "a52ae9bf",
   "metadata": {},
   "source": [
    "### Exercise 14\n",
    "\n",
    "Write a python function that receives a whole number as an argument, and then based on that number prints out only the even numbers in the range from 0 to that number. Use a `continue` statement to achieve this. Also, use a `break` statement to avoid printing any numbers higher than 10, and print out an appropriate message.\n",
    "\n",
    "For an argument of `13`, the output should be as follows:\n",
    "\n",
    "```\n",
    "2\n",
    "4\n",
    "6\n",
    "8\n",
    "10\n",
    "Exiting\n",
    "```"
   ]
  },
  {
   "cell_type": "code",
   "execution_count": 111,
   "id": "c73d6262",
   "metadata": {},
   "outputs": [
    {
     "name": "stdout",
     "output_type": "stream",
     "text": [
      "2\n",
      "4\n",
      "6\n",
      "8\n",
      "10\n",
      "Exiting\n"
     ]
    }
   ],
   "source": [
    "## ANSWER EXERCISE 14\n",
    "\n",
    "def print_even_under_ten(num):\n",
    "    for i in range(1, num+1):\n",
    "        if i > 10:\n",
    "            print(\"Exiting\")\n",
    "            break\n",
    "        if i%2==0:\n",
    "            print(i)\n",
    "        else:\n",
    "            continue\n",
    "\n",
    "print_even_under_ten(13)"
   ]
  }
 ],
 "metadata": {
  "kernelspec": {
   "display_name": "Python 3 (ipykernel)",
   "language": "python",
   "name": "python3"
  },
  "language_info": {
   "codemirror_mode": {
    "name": "ipython",
    "version": 3
   },
   "file_extension": ".py",
   "mimetype": "text/x-python",
   "name": "python",
   "nbconvert_exporter": "python",
   "pygments_lexer": "ipython3",
   "version": "3.10.9"
  }
 },
 "nbformat": 4,
 "nbformat_minor": 5
}
