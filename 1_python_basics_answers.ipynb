{
 "cells": [
  {
   "cell_type": "markdown",
   "id": "bde29102",
   "metadata": {},
   "source": [
    "# Python Fundamentals - Answers\n",
    "\n",
    "Practice exercises for python fundamentals: variables, print statements and mathematical operators.\n",
    "\n",
    "## Prerequisites\n",
    "\n",
    "In order to complete these exercises, you should know how to:\n",
    "- Create variables\n",
    "- Use print statements (to print strings, and variables inside strings)\n",
    "- Use the basic mathematic operators (`+`, `-`, `*`, `/`, `%`, `+=` etc.)\n",
    "\n",
    "In order to complete the \"Going Further\" exercises, you should also know how to:\n",
    "- Use input() to collect input from a user\n",
    "- Explicitly convert a variable from one type (eg string) to another (eg int)"
   ]
  },
  {
   "cell_type": "markdown",
   "id": "85b56cb2",
   "metadata": {},
   "source": [
    "### Exercise 1\n",
    "Write python code that prints your name, job title and email address in the following format:\n",
    "\n",
    "Name  \n",
    "Job title  \n",
    "Email address\n",
    "\n",
    "#### Go further\n",
    "Use the code `variable = input(\"insert your user prompt\")` to prompt the user to enter their name, job title and email address, then print the information in the same format as before"
   ]
  },
  {
   "cell_type": "code",
   "execution_count": 56,
   "id": "284cf690",
   "metadata": {},
   "outputs": [
    {
     "name": "stdout",
     "output_type": "stream",
     "text": [
      "Rowena Jones\n",
      "Technical Writer\n",
      "rowena@jones.com\n"
     ]
    }
   ],
   "source": [
    "# ANSWER EXERCISE 1\n",
    "\n",
    "print(\"Rowena Jones\")\n",
    "print(\"Technical Writer\")\n",
    "print(\"rowena@jones.com\")"
   ]
  },
  {
   "cell_type": "code",
   "execution_count": 57,
   "id": "10f36a51",
   "metadata": {},
   "outputs": [
    {
     "name": "stdout",
     "output_type": "stream",
     "text": [
      "Enter your name: Rowena Jones\n",
      "Enter your job title: Technical Writer\n",
      "Enter your email address: rowena@jones.com\n",
      "Rowena Jones\n",
      "Technical Writer\n",
      "rowena@jones.com\n"
     ]
    }
   ],
   "source": [
    "# ANSWER EXERCISE 1 GOING FURTHER\n",
    "\n",
    "name = input(\"Enter your name: \")\n",
    "job_title = input(\"Enter your job title: \")\n",
    "email = input(\"Enter your email address: \")\n",
    "\n",
    "print(name)\n",
    "print(job_title)\n",
    "print(email)"
   ]
  },
  {
   "cell_type": "markdown",
   "id": "13ba7556",
   "metadata": {},
   "source": [
    "### Exercise 2\n",
    "\n",
    "Create a variable `square_side` that holds the length of one side of a square, in cm. Based on that variable, calculate and print the length of the perimeter of the square, and the area of the square. For a square with one side that measures 3cm, the following should be displayed:\n",
    "\n",
    "```\n",
    "One side of the square measures 3cm\n",
    "Its perimeter measures 12cm\n",
    "Its total area is 9cm2\n",
    "```\n",
    "\n",
    "#### Go further\n",
    "Use the code `variable = input(\"insert your user prompt\")` to prompt the user to enter the value for the square side, then print the information in the same format as before"
   ]
  },
  {
   "cell_type": "code",
   "execution_count": 58,
   "id": "5393aa66",
   "metadata": {},
   "outputs": [
    {
     "name": "stdout",
     "output_type": "stream",
     "text": [
      "One side of the square measures 3 cm\n",
      "Its perimeter measures 12 cm\n",
      "Its total area is 9 cm2\n"
     ]
    }
   ],
   "source": [
    "# ANSWER EXERCISE 2\n",
    "\n",
    "square_side = 3\n",
    "perimeter = square_side * 4\n",
    "area = square_side * square_side\n",
    "\n",
    "print(\"One side of the square measures\", square_side, \"cm\")\n",
    "print(\"Its perimeter measures\", perimeter, \"cm\")\n",
    "print(\"Its total area is\", area, \"cm2\")"
   ]
  },
  {
   "cell_type": "code",
   "execution_count": 59,
   "id": "915949cf",
   "metadata": {},
   "outputs": [
    {
     "name": "stdout",
     "output_type": "stream",
     "text": [
      "One side of the square measures 3cm\n",
      "Its perimeter measures 12cm\n",
      "Its total area is 9cm2\n"
     ]
    }
   ],
   "source": [
    "# ALTERNATIVE ANSWER EXERCISE 2\n",
    "# This solution removes the spaces between the \"cm\" and the value, via string concatentation with str(val) and +\n",
    "\n",
    "square_side = 3\n",
    "perimeter = square_side * 4\n",
    "area = square_side * square_side\n",
    "\n",
    "print(\"One side of the square measures \" + str(square_side) + \"cm\")\n",
    "print(\"Its perimeter measures \" + str(perimeter) + \"cm\")\n",
    "print(\"Its total area is \" + str(area) + \"cm2\")"
   ]
  },
  {
   "cell_type": "code",
   "execution_count": 60,
   "id": "ee674bed",
   "metadata": {},
   "outputs": [
    {
     "name": "stdout",
     "output_type": "stream",
     "text": [
      "Enter the length of one side of a square, in cm: 3\n",
      "One side of the square measures 3cm\n",
      "Its perimeter measures 12cm\n",
      "Its total area is 9cm2\n"
     ]
    }
   ],
   "source": [
    "# ANSWER EXERCISE 2 GOING FURTHER\n",
    "\n",
    "square_side = input(\"Enter the length of one side of a square, in cm: \")\n",
    "\n",
    "square_side = int(square_side)\n",
    "perimeter = (square_side) * 4\n",
    "area = square_side * square_side\n",
    "\n",
    "print(\"One side of the square measures \" + str(square_side) + \"cm\")\n",
    "print(\"Its perimeter measures \" + str(perimeter) + \"cm\")\n",
    "print(\"Its total area is \" + str(area) + \"cm2\")"
   ]
  },
  {
   "cell_type": "markdown",
   "id": "0c4d8e57",
   "metadata": {},
   "source": [
    "### Exercise 3\n",
    "\n",
    "a) Create 4 appropriately-named variables to describe the characteristics of a dog: its name, its age (in whole years), whether it has been neutered (true if yes, false if no), and the number of cups of food it eats per day. You can make up the required data (values for the variables) yourself. Print out each piece of information to the terminal, each on its own line, so for a dog called Toby it looks like this:\n",
    "\n",
    "```\n",
    "Name: Toby  \n",
    "Age: 3 \n",
    "Neutered: False  \n",
    "Cups of food per day: 4\n",
    "```\n",
    "\n",
    "b) Increase the dog's age by one year, using `+=`, and print e.g. `Toby is now 4 years old`.\n",
    "\n",
    "c) Based on a seven day week, calculate and print out a new variable for the amount of food the dog eats per week, in cups, and print e.g. `Toby eats 28 cups of food per week`\n",
    "    \n",
    "d) New scientific evidence suggests that to convert dog years to human years, you should multiply its age by 7.3. Calculate and print out the dog's age in human years, e.g. `Toby is 21.9 years old in human years`.\n",
    "    \n",
    "#### Go further\n",
    "Use the code `variable = input(\"insert your user prompt\")` to prompt the user to enter initials values for the dog (name, age etc), then carry out the other operations in the same way as before. Note that `input()` collects string values only, so you might need to convert some variables to more appropriate types."
   ]
  },
  {
   "cell_type": "code",
   "execution_count": 61,
   "id": "fb64d435",
   "metadata": {},
   "outputs": [
    {
     "name": "stdout",
     "output_type": "stream",
     "text": [
      "Name: Toby\n",
      "Age: 3\n",
      "Neutered: False\n",
      "Cups of food per day: 4\n",
      "Toby is now 4 years old\n",
      "Toby eats 28 cups of food per week\n",
      "Toby is 29.2 years old in human years\n"
     ]
    }
   ],
   "source": [
    "# ANSWER EXERCISE 3\n",
    "\n",
    "name = \"Toby\"\n",
    "age = 3\n",
    "neutered = False\n",
    "cups_food_pday = 4\n",
    "\n",
    "print(\"Name:\", name)\n",
    "print(\"Age:\", age)\n",
    "print(\"Neutered:\", neutered)\n",
    "print(\"Cups of food per day:\", cups_food_pday)\n",
    "\n",
    "age+=1\n",
    "print(name, \"is now\", age, \"years old\")\n",
    "\n",
    "cups_food_pweek = cups_food_pday * 7\n",
    "print(name, \"eats\", cups_food_pweek, \"cups of food per week\")\n",
    "\n",
    "age_human = age * 7.3\n",
    "print(name, \"is\", age_human, \"years old in human years\")"
   ]
  },
  {
   "cell_type": "code",
   "execution_count": 62,
   "id": "4c10a6ee",
   "metadata": {},
   "outputs": [
    {
     "name": "stdout",
     "output_type": "stream",
     "text": [
      "What is your dog called? Toby\n",
      "How old is your dog, in years? 3\n",
      "Is your dog neutered? Leave blank and hit enter for no, or enter Y for yes \n",
      "How many cups of food does your dog eat per day? 4\n",
      "Name: Toby\n",
      "Age: 3\n",
      "Neutered: False\n",
      "Cups of food per day: 4\n",
      "Toby is now 4 years old\n",
      "Toby eats 28 cups of food per week\n",
      "Toby is 29.2 years old in human years\n"
     ]
    }
   ],
   "source": [
    "# ANSWER EXERCISE 3 GOING FURTHER\n",
    "\n",
    "name = input(\"What is your dog called? \")\n",
    "age = input(\"How old is your dog, in years? \")\n",
    "neutered = input(\"Is your dog neutered? Leave blank and hit enter for no, or enter Y for yes \")\n",
    "cups_food_pday = input(\"How many cups of food does your dog eat per day? \")\n",
    "\n",
    "age = int(age)\n",
    "neutered = bool(neutered)\n",
    "cups_food_pday = int(cups_food_pday)\n",
    "\n",
    "print(\"Name:\", name)\n",
    "print(\"Age:\", age)\n",
    "print(\"Neutered:\", neutered)\n",
    "print(\"Cups of food per day:\", cups_food_pday)\n",
    "\n",
    "age+=1\n",
    "print(name, \"is now\", age, \"years old\")\n",
    "\n",
    "cups_food_pweek = cups_food_pday * 7\n",
    "print(name, \"eats\", cups_food_pweek, \"cups of food per week\")\n",
    "\n",
    "age_human = age * 7.3\n",
    "print(name, \"is\", age_human, \"years old in human years\")"
   ]
  },
  {
   "cell_type": "markdown",
   "id": "e0bc19e8",
   "metadata": {},
   "source": [
    "### Exercise 4\n",
    "\n",
    "Create a variable `seconds` that holds a value representing a number of seconds. Then, based on that variable, calculate and print the number of hours, minutes and seconds that it translates to. So, for example, for a value of 5003 seconds, it should output:\n",
    "\n",
    "```\n",
    "5003 seconds is:  1 hour, 23 minutes and 23 seconds\n",
    "```\n",
    "\n",
    "Hint: you should use the modulo `%` operator.\n",
    "\n",
    "#### Go further\n",
    "Use the code `variable = input(\"insert your user prompt\")` to prompt the user to enter the value for the number of seconds, then print the information in the same format as before"
   ]
  },
  {
   "cell_type": "code",
   "execution_count": 63,
   "id": "d29f9934",
   "metadata": {},
   "outputs": [
    {
     "name": "stdout",
     "output_type": "stream",
     "text": [
      "5003 seconds is: 1 hour 23 minutes and 23 seconds\n"
     ]
    }
   ],
   "source": [
    "# ANSWER EXERCISE 4\n",
    "\n",
    "seconds = 5003\n",
    "\n",
    "# there are 3600 seconds in an hour\n",
    "hours = seconds / 3600\n",
    "\n",
    "# these are all the seconds leftover that don't fit into a whole hour\n",
    "remainder_seconds = seconds % 3600\n",
    "\n",
    "# there are 60 seconds in a minute\n",
    "minutes = remainder_seconds / 60\n",
    "\n",
    "# these are all the seconds leftover that don't fit into whole hours or whole minutes\n",
    "remainder_seconds = remainder_seconds % 60\n",
    "\n",
    "# note the use of int() which rounds down instead of up, which is the behaviour we want\n",
    "print(str(seconds) + \" seconds is: \" + str(int(hours)) + \" hour \" + str(int(minutes)) + \" minutes and \" + str(remainder_seconds) + \" seconds\")"
   ]
  },
  {
   "cell_type": "code",
   "execution_count": 64,
   "id": "87cd898a",
   "metadata": {},
   "outputs": [
    {
     "name": "stdout",
     "output_type": "stream",
     "text": [
      "Enter a number of seconds: 5003\n",
      "5003 seconds is: 1 hour 23 minutes and 23 seconds\n"
     ]
    }
   ],
   "source": [
    "# ANSWER EXCERISE 4 GOING FURTHER\n",
    "\n",
    "seconds = input(\"Enter a number of seconds: \")\n",
    "\n",
    "seconds = int(seconds)\n",
    "\n",
    "# there are 3600 seconds in an hour\n",
    "hours = seconds / 3600\n",
    "\n",
    "# these are all the seconds leftover that don't fit into a whole hour\n",
    "remainder_seconds = seconds % 3600\n",
    "\n",
    "# there are 60 seconds in a minute\n",
    "minutes = remainder_seconds / 60\n",
    "\n",
    "# these are all the seconds leftover that don't fit into whole hours or whole minutes\n",
    "remainder_seconds = remainder_seconds % 60\n",
    "\n",
    "# note the use of int() which rounds down instead of up, which is the behaviour we want\n",
    "print(str(seconds) + \" seconds is: \" + str(int(hours)) + \" hour \" + str(int(minutes)) + \" minutes and \" + str(remainder_seconds) + \" seconds\")"
   ]
  },
  {
   "cell_type": "markdown",
   "id": "22fc8748-36e3-410b-b224-2758a91c8311",
   "metadata": {},
   "source": [
    "### Exercice 5\n",
    "\n",
    "Write Python code that finds the largest of 3 numbers without using conditionals, solely relying on mathematical operations.\n",
    "\n",
    "#### Example\n",
    "\n",
    "num1 = 15  \n",
    "num2 = 22  \n",
    "num3 = 8\n",
    "\n",
    "The largest number is: 22\n",
    "\n",
    "### Go further\n",
    "\n",
    "Use the code variable = input(\"insert your user prompt\") to enter the values of num1, num2, and num3."
   ]
  },
  {
   "cell_type": "code",
   "execution_count": 65,
   "id": "c274e9be-c2a7-4d73-8e49-d22c00fcf2c2",
   "metadata": {},
   "outputs": [
    {
     "name": "stdout",
     "output_type": "stream",
     "text": [
      "The largest number is: 22\n"
     ]
    }
   ],
   "source": [
    "# ANSWER EXERCISE 5\n",
    "\n",
    "num1 = 1\n",
    "num2 = 22\n",
    "num3 = 8\n",
    "\n",
    "# Use the inbuilt max() function in Python\n",
    "max_num = max(num1, num2, num3)\n",
    "print(\"The largest number is:\", max_num)"
   ]
  },
  {
   "cell_type": "code",
   "execution_count": 66,
   "id": "71c813aa-7730-4c47-990e-95f348c33724",
   "metadata": {},
   "outputs": [
    {
     "name": "stdout",
     "output_type": "stream",
     "text": [
      "Enter a number 1\n",
      "Enter another number 22\n",
      "Enter a final number 8\n",
      "The largest number is: 22\n"
     ]
    }
   ],
   "source": [
    "# ANSWER EXERCISE 5 GOING FURTHER\n",
    "\n",
    "num1 = int(input(\"Enter a number \"))\n",
    "num2 = int(input(\"Enter another number \"))\n",
    "num3 = int(input(\"Enter a final number \"))\n",
    "\n",
    "# Use the inbuilt max() function in Python\n",
    "max_num = max(num1, num2, num3)\n",
    "print(\"The largest number is:\", max_num)"
   ]
  },
  {
   "cell_type": "code",
   "execution_count": null,
   "id": "967edc3f",
   "metadata": {},
   "outputs": [],
   "source": []
  }
 ],
 "metadata": {
  "kernelspec": {
   "display_name": "Python 3 (ipykernel)",
   "language": "python",
   "name": "python3"
  },
  "language_info": {
   "codemirror_mode": {
    "name": "ipython",
    "version": 3
   },
   "file_extension": ".py",
   "mimetype": "text/x-python",
   "name": "python",
   "nbconvert_exporter": "python",
   "pygments_lexer": "ipython3",
   "version": "3.10.9"
  }
 },
 "nbformat": 4,
 "nbformat_minor": 5
}
