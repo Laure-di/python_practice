{
 "cells": [
  {
   "cell_type": "markdown",
   "id": "19464cb9",
   "metadata": {},
   "source": [
    "# Python Functions\n",
    "\n",
    "Practice exercises for using functions with Python.\n",
    "\n",
    "## Prerequisites\n",
    "\n",
    "In order to complete these exercises, you should know how to:\n",
    "- Create variables\n",
    "- Use print statements\n",
    "- Use basic mathematic operators (`+`, `-`, `*`, `/`, `%` etc.)\n",
    "- Create and call functions"
   ]
  },
  {
   "cell_type": "markdown",
   "id": "5cc9cee9",
   "metadata": {},
   "source": [
    "### Exercise 1\n",
    "\n",
    "Write a function `times_five()` that receives a number, multiplies it by 5, and returns the result. Test the function by calling it with a variety of different arguments."
   ]
  },
  {
   "cell_type": "code",
   "execution_count": null,
   "id": "cf2c5134",
   "metadata": {},
   "outputs": [],
   "source": []
  },
  {
   "cell_type": "markdown",
   "id": "13ba7556",
   "metadata": {},
   "source": [
    "### Exercise 2\n",
    "\n",
    "Write a function that takes the radius of a circle as an argument and then prints the radius, circumference and area. The formulas for calculating the circumference and area are as follows:\n",
    "\n",
    "circumference = 2 * radius * PI  \n",
    "area = 4 * radius2 *PI         \n",
    "PI=3.1415926\n",
    "\n",
    "The function should return all three values, and you should then print them (outside the function). The output should be as below for a radius of 3 cm:  \n",
    "    \n",
    "The radius of the circle is 3 cm.  \n",
    "Its circumference is 18.849555600000002 cm  \n",
    "Its area is 113.0973336 cm2\n",
    "\n",
    "Call the function **measure_circle** and test it by calling it with a value of 3, and other values.\n",
    "\n",
    "#### Go further\n",
    "\n",
    "- Use the `round(number, ndigits)` function to round the circumference and area to two decimal places.\n",
    "- Convert all values to inches (1 cm = 0.3937007874 inches) and display the results in both units."
   ]
  },
  {
   "cell_type": "raw",
   "id": "198835bd",
   "metadata": {},
   "source": []
  },
  {
   "cell_type": "markdown",
   "id": "d581b44f",
   "metadata": {},
   "source": [
    "### Exercise 3\n",
    "\n",
    "Write a Python function that takes the name and age (in years) of a person as arguments. It should increase their age by one year, print a birthday message and return the new age. Store the age in a variable.\n",
    "\n",
    "For Sarah and 32, it should print `Happy birthday Sarah ! Now you are 33 !`"
   ]
  },
  {
   "cell_type": "code",
   "execution_count": null,
   "id": "aaef32c4",
   "metadata": {},
   "outputs": [],
   "source": []
  },
  {
   "cell_type": "markdown",
   "id": "e0bc19e8",
   "metadata": {},
   "source": [
    "### Exercise 4\n",
    "\n",
    "Variables in programming languages are references to an object in the computer's memory. When a variable is passed to a function as an argument, it can be done in two ways depending on the programming language:\n",
    "\n",
    "**Call by Value**: The value of the argument is passed to the function, which receives a new copy of the value.  \n",
    "**Call by Reference**: The memory address (ID) of the actual argument is passed to the function or method, which operators directly on the original data.\n",
    "\n",
    "Create code, including a function, to test whether Python uses call by value or call by reference. \n",
    "\n",
    "Hint: use `id(var)` to print the ID of a variable inside and outside the function.\n",
    "\n",
    "What have you proved about which method Python uses?"
   ]
  },
  {
   "cell_type": "code",
   "execution_count": null,
   "id": "0277a7c2",
   "metadata": {},
   "outputs": [],
   "source": []
  },
  {
   "cell_type": "markdown",
   "id": "85b56cb2",
   "metadata": {},
   "source": [
    "### Exercise 5\n",
    "\n",
    "Write three functions:\n",
    "\n",
    "- A function `square()` that receives a number and returns its square\n",
    "- A function `cube()` that receives a number and returns its cube\n",
    "- A function `square_and_cube()` that receives a number and calls the other two functions to print the square and cube of the number.\n",
    "\n",
    "When `square_and_cube(5)` is called, it should print `5 squared is 25, 5 cubed is 125`."
   ]
  },
  {
   "cell_type": "code",
   "execution_count": null,
   "id": "284cf690",
   "metadata": {},
   "outputs": [],
   "source": []
  },
  {
   "cell_type": "markdown",
   "id": "0c4d8e57",
   "metadata": {},
   "source": [
    "### Going further\n",
    "\n",
    "Redo all of the exercises in Python Fundamentals, writing the answers as functions."
   ]
  },
  {
   "cell_type": "code",
   "execution_count": null,
   "id": "08a8c395",
   "metadata": {},
   "outputs": [],
   "source": []
  },
  {
   "cell_type": "markdown",
   "id": "24b0c7fe-e7b9-4924-af81-758138ce9ce8",
   "metadata": {},
   "source": [
    "### Exercice 6 : Simple Calculator\n",
    "\n",
    "You are tasked with creating a simple calculator in Python that can perform the operations of addition, subtraction, multiplication, and division on two numbers. The goal is to create a series of functions for each operation and then implement a main function that takes the user's operation choice into account.\n",
    "\n",
    "#### Operation Functions:\n",
    "**addition(a, b):** This function takes two numbers as input and returns their sum.  \n",
    "**subtraction(a, b):** This function takes two numbers as input and returns their difference (a - b).  \n",
    "**multiplication(a, b):** This function takes two numbers as input and returns their product.  \n",
    "**division(a, b):** This function takes two numbers as input and returns the result of the division (a / b). Ensure to handle the case where b is equal to zero.\n",
    "\n",
    "#### Main Function:\n",
    "**calculator():** This function is the main function of the calculator. It should prompt the user to choose an operation among addition, subtraction, multiplication, and division. Then, it should ask the user to input two numbers, call the appropriate function based on the user's choice, and display the result.\n",
    "\n",
    "#### Instructions:\n",
    "Use separate functions for each operation.  \n",
    "Use a loop to allow the user to continue performing calculations until they choose to exit.  \n",
    "Handle errors, e.g., check that the user enters valid numbers and prevent division by zero.  "
   ]
  },
  {
   "cell_type": "code",
   "execution_count": null,
   "id": "891c432c-f007-4ec2-956f-c41c2f3c8d40",
   "metadata": {},
   "outputs": [],
   "source": []
  }
 ],
 "metadata": {
  "kernelspec": {
   "display_name": "Python 3 (ipykernel)",
   "language": "python",
   "name": "python3"
  },
  "language_info": {
   "codemirror_mode": {
    "name": "ipython",
    "version": 3
   },
   "file_extension": ".py",
   "mimetype": "text/x-python",
   "name": "python",
   "nbconvert_exporter": "python",
   "pygments_lexer": "ipython3",
   "version": "3.10.12"
  }
 },
 "nbformat": 4,
 "nbformat_minor": 5
}
