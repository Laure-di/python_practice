{
 "cells": [
  {
   "cell_type": "markdown",
   "id": "19464cb9",
   "metadata": {},
   "source": [
    "# Python Functions\n",
    "\n",
    "Practice exercises for using functions with Python.\n",
    "\n",
    "## Prerequisites\n",
    "\n",
    "In order to complete these exercises, you should know how to:\n",
    "- Create variables\n",
    "- Use print statements\n",
    "- Use basic mathematic operators (`+`, `-`, `*`, `/`, `%` etc.)"
   ]
  },
  {
   "cell_type": "markdown",
   "id": "5cc9cee9",
   "metadata": {},
   "source": [
    "### Exercise 1\n",
    "\n",
    "Write a function that receives a number, multiplies it by 5, and returns the result. Give it an appropriate name. Test the function by calling it with a variety of different arguments."
   ]
  },
  {
   "cell_type": "code",
   "execution_count": null,
   "id": "cf2c5134",
   "metadata": {},
   "outputs": [],
   "source": []
  },
  {
   "cell_type": "markdown",
   "id": "13ba7556",
   "metadata": {},
   "source": [
    "### Exercise 2\n",
    "\n",
    "Write a function that receives two numbers representing the length and width of a rectangle in cm. The function calculates the area of the rectangle and returns the value. \n",
    "\n",
    "For an area of length 5 and width 3, it should return an area of 15.\n",
    "\n",
    "Give the function an appropriate name, and test it by calling it with a variety of different arguments.\n",
    "\n",
    "#### Going further\n",
    "\n",
    "Modify the function so that it also calculates and returns the perimeter of the rectangle, as well as the area. When you call the function, store the results in two separate variables, one called `area` and one called `perimeter`. It should then print a sentence giving the area and the perimeter.\n",
    "\n",
    "For an area of length 5 and width 3, it should print `The rectangle has an area of 15 cm and a perimeter of 16 cm`"
   ]
  },
  {
   "cell_type": "raw",
   "id": "dbf99fda",
   "metadata": {},
   "source": []
  },
  {
   "cell_type": "markdown",
   "id": "d581b44f",
   "metadata": {},
   "source": [
    "### Exercise 3\n",
    "\n",
    "Write a Python function that takes the name and age (in years) of a person as arguments. It should increase their age by one year, print a birthday message and return the new age. Store the age in a variable.\n",
    "\n",
    "For Sarah and 32, it should print `Happy birthday Sarah ! Now you are 33 !`"
   ]
  },
  {
   "cell_type": "code",
   "execution_count": null,
   "id": "aaef32c4",
   "metadata": {},
   "outputs": [],
   "source": []
  },
  {
   "cell_type": "markdown",
   "id": "e0bc19e8",
   "metadata": {},
   "source": [
    "### Exercise 4\n",
    "\n",
    "Variables in programming languages are references to an object in the computer's memory. When a variable is passed to a function as an argument, it can be done in two ways depending on the programming language:\n",
    "\n",
    "**Call by Value**: The value of the argument is passed to the function, which receives a new copy of the value.  \n",
    "**Call by Reference**: The memory address (ID) of the actual argument is passed to the function or method, which operators directly on the original data.\n",
    "\n",
    "Create code, including a function, to test whether Python uses call by value or call by reference. \n",
    "\n",
    "Hint: use `id(var)` to print the ID of a variable inside and outside the function.\n",
    "\n",
    "What have you proved about which method Python uses?"
   ]
  },
  {
   "cell_type": "code",
   "execution_count": null,
   "id": "0277a7c2",
   "metadata": {},
   "outputs": [],
   "source": []
  },
  {
   "cell_type": "markdown",
   "id": "85b56cb2",
   "metadata": {},
   "source": [
    "### Exercise 5\n",
    "\n",
    "Write three functions:\n",
    "\n",
    "- A function `square()` that receives a number and returns its square\n",
    "- A function `cube()` that receives a number and returns its cube\n",
    "- A function `square_and_cube()` that receives a number and calls the other two functions to print the square and cube of the number.\n",
    "\n",
    "When `square_and_cube(5)` is called, it should print `5 squared is 25, 5 cubed is 125`."
   ]
  },
  {
   "cell_type": "code",
   "execution_count": null,
   "id": "284cf690",
   "metadata": {},
   "outputs": [],
   "source": []
  },
  {
   "cell_type": "markdown",
   "id": "0c4d8e57",
   "metadata": {},
   "source": [
    "### Going further\n",
    "\n",
    "Redo all of the exercises in Python Fundamentals, writing the answers as functions."
   ]
  },
  {
   "cell_type": "code",
   "execution_count": null,
   "id": "08a8c395",
   "metadata": {},
   "outputs": [],
   "source": []
  }
 ],
 "metadata": {
  "kernelspec": {
   "display_name": "Python 3 (ipykernel)",
   "language": "python",
   "name": "python3"
  },
  "language_info": {
   "codemirror_mode": {
    "name": "ipython",
    "version": 3
   },
   "file_extension": ".py",
   "mimetype": "text/x-python",
   "name": "python",
   "nbconvert_exporter": "python",
   "pygments_lexer": "ipython3",
   "version": "3.10.9"
  }
 },
 "nbformat": 4,
 "nbformat_minor": 5
}
