{
 "cells": [
  {
   "cell_type": "markdown",
   "id": "19464cb9",
   "metadata": {},
   "source": [
    "# Python Fundamentals\n",
    "\n",
    "Practice exercises for python fundamentals: variables, print statements and mathematical operators.\n",
    "\n",
    "## Prerequisites\n",
    "\n",
    "In order to complete these exercises, you should know how to:\n",
    "- Create variables\n",
    "- Use print statements (to print strings, and variables inside strings)\n",
    "- Use the basic mathematic operators (`+`, `-`, `*`, `/`, `%`, `+=` etc.)\n",
    "\n",
    "In order to complete the \"Going Further\" exercises, you should also know how to:\n",
    "- Use input() to collect input from a user\n",
    "- Explicitly convert a variable from one type (eg string) to another (eg int)"
   ]
  },
  {
   "cell_type": "markdown",
   "id": "85b56cb2",
   "metadata": {},
   "source": [
    "### Exercise 1\n",
    "Write python code that prints your name, job title and email address in the following format:\n",
    "\n",
    "Name  \n",
    "Job title  \n",
    "Email address\n",
    "\n",
    "#### Go further\n",
    "Use the code `variable = input(\"insert your user prompt\")` to prompt the user to enter their name, job title and email address, then print the information in the same format as before"
   ]
  },
  {
   "cell_type": "code",
   "execution_count": null,
   "id": "284cf690",
   "metadata": {},
   "outputs": [],
   "source": []
  },
  {
   "cell_type": "markdown",
   "id": "13ba7556",
   "metadata": {},
   "source": [
    "### Exercise 2\n",
    "\n",
    "Create a variable `square_side` that holds the length of one side of a square, in cm. Based on that variable, calculate and print the length of the perimeter of the square, and the area of the square. For a square with one side that measures 3cm, the following should be displayed:\n",
    "\n",
    "```\n",
    "One side of the square measures 3cm\n",
    "Its perimeter measures 12cm\n",
    "Its total area is 9cm2\n",
    "```\n",
    "\n",
    "#### Go further\n",
    "Use the code `variable = input(\"insert your user prompt\")` to prompt the user to enter the value for the square side, then print the information in the same format as before"
   ]
  },
  {
   "cell_type": "code",
   "execution_count": null,
   "id": "5393aa66",
   "metadata": {},
   "outputs": [],
   "source": []
  },
  {
   "cell_type": "markdown",
   "id": "0c4d8e57",
   "metadata": {},
   "source": [
    "### Exercise 3\n",
    "\n",
    "a) Create 4 appropriately-named variables to describe the characteristics of a dog: its name, its age (in whole years), whether it has been neutered (true if yes, false if no), and the number of cups of food it eats per day. You can make up the required data (values for the variables) yourself. Print out each piece of information to the terminal, each on its own line, so for a dog called Toby it looks like this:\n",
    "\n",
    "```\n",
    "Name: Toby  \n",
    "Age: 3 \n",
    "Neutered: False  \n",
    "Cups of food per day: 4\n",
    "```\n",
    "\n",
    "b) Increase the dog's age by one year, using `+=`, and print e.g. `Toby is now 4 years old`.\n",
    "\n",
    "c) Based on a seven day week, calculate and print out a new variable for the amount of food the dog eats per week, in cups, and print e.g. `Toby eats 28 cups of food per week`\n",
    "    \n",
    "d) New scientific evidence suggests that to convert dog years to human years, you should multiply its age by 7.3. Calculate and print out the dog's age in human years, e.g. `Toby is 21.9 years old in human years`.\n",
    "    \n",
    "#### Go further\n",
    "Use the code `variable = input(\"insert your user prompt\")` to prompt the user to enter initials values for the dog (name, age etc), then carry out the other operations in the same way as before. Note that `input()` collects string values only, so you might need to convert some variables to more appropriate types."
   ]
  },
  {
   "cell_type": "code",
   "execution_count": null,
   "id": "fb64d435",
   "metadata": {},
   "outputs": [],
   "source": []
  },
  {
   "cell_type": "markdown",
   "id": "e0bc19e8",
   "metadata": {},
   "source": [
    "### Exercise 4\n",
    "\n",
    "Create a variable `seconds` that holds a value representing a number of seconds. Then, based on that variable, calculate and print the number of hours, minutes and seconds that it translates to. So, for example, for a value of 5000 seconds, it should output:\n",
    "\n",
    "```\n",
    "50391 seconds is:  1 hour, 23 minutes and 19 seconds\n",
    "```\n",
    "\n",
    "Hint: you should use the modulo `%` operator.\n",
    "\n",
    "#### Go further\n",
    "Use the code `variable = input(\"insert your user prompt\")` to prompt the user to enter the value for the number of seconds, then print the information in the same format as before"
   ]
  },
  {
   "cell_type": "code",
   "execution_count": null,
   "id": "0277a7c2",
   "metadata": {},
   "outputs": [],
   "source": []
  },
  {
   "cell_type": "code",
   "execution_count": null,
   "id": "e9fd1493",
   "metadata": {},
   "outputs": [],
   "source": []
  }
 ],
 "metadata": {
  "kernelspec": {
   "display_name": "Python 3 (ipykernel)",
   "language": "python",
   "name": "python3"
  },
  "language_info": {
   "codemirror_mode": {
    "name": "ipython",
    "version": 3
   },
   "file_extension": ".py",
   "mimetype": "text/x-python",
   "name": "python",
   "nbconvert_exporter": "python",
   "pygments_lexer": "ipython3",
   "version": "3.10.9"
  }
 },
 "nbformat": 4,
 "nbformat_minor": 5
}
