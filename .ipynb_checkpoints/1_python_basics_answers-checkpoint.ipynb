{
 "cells": [
  {
   "cell_type": "markdown",
   "id": "bde29102",
   "metadata": {},
   "source": [
    "# Python Fundamentals - Answers\n",
    "\n",
    "Practice exercises for python fundamentals: variables, print statements and mathematical operators.\n",
    "\n",
    "## Prerequisites\n",
    "\n",
    "In order to complete these exercises, you should know how to:\n",
    "- Create variables\n",
    "- Use print statements (to print strings, and variables inside strings)\n",
    "- Use the basic mathematic operators (`+`, `-`, `*`, `/`, `%`, `+=` etc.)\n",
    "\n",
    "In order to complete the \"Going Further\" exercises, you should also know how to:\n",
    "- Use input() to collect input from a user\n",
    "- Explicitly convert a variable from one type (eg string) to another (eg int)"
   ]
  },
  {
   "cell_type": "markdown",
   "id": "85b56cb2",
   "metadata": {},
   "source": [
    "### Exercise 1\n",
    "Write python code that prints your name, job title and email address in the following format:\n",
    "\n",
    "Name  \n",
    "Job title  \n",
    "Email address\n",
    "\n",
    "#### Go further\n",
    "Use the code `variable = input(\"insert your user prompt\")` to prompt the user to enter their name, job title and email address, then print the information in the same format as before"
   ]
  },
  {
   "cell_type": "code",
   "execution_count": 100,
   "id": "284cf690",
   "metadata": {},
   "outputs": [
    {
     "name": "stdout",
     "output_type": "stream",
     "text": [
      "Rowena Jones\n",
      "Technical Writer\n",
      "rowena@jones.com\n"
     ]
    }
   ],
   "source": [
    "# ANSWER EXERCISE 1\n",
    "\n",
    "print(\"Rowena Jones\")\n",
    "print(\"Technical Writer\")\n",
    "print(\"rowena@jones.com\")"
   ]
  },
  {
   "cell_type": "code",
   "execution_count": 101,
   "id": "b562c2ad",
   "metadata": {},
   "outputs": [
    {
     "name": "stdout",
     "output_type": "stream",
     "text": [
      "Enter your name: Rowena Jones\n",
      "Enter your job title: Technical Writer\n",
      "Enter your email address: rowena@jones.com\n",
      "Rowena Jones\n",
      "Technical Writer\n",
      "rowena@jones.com\n"
     ]
    }
   ],
   "source": [
    "# ANSWER EXERCISE 1 GOING FURTHER\n",
    "\n",
    "name = input(\"Enter your name: \")\n",
    "job_title = input(\"Enter your job title: \")\n",
    "email = input(\"Enter your email address: \")\n",
    "\n",
    "print(name)\n",
    "print(job_title)\n",
    "print(email)"
   ]
  },
  {
   "cell_type": "markdown",
   "id": "13ba7556",
   "metadata": {},
   "source": [
    "### Exercise 2\n",
    "\n",
    "Create a variable `square_side` that holds the length of one side of a square, in cm. Based on that variable, calculate and print the length of the perimeter of the square, and the area of the square. For a square with one side that measures 3cm, the following should be displayed:\n",
    "\n",
    "```\n",
    "One side of the square measures 3cm\n",
    "Its perimeter measures 12cm\n",
    "Its total area is 9cm2\n",
    "```\n",
    "\n",
    "#### Go further\n",
    "Use the code `variable = input(\"insert your user prompt\")` to prompt the user to enter the value for the square side, then print the information in the same format as before"
   ]
  },
  {
   "cell_type": "code",
   "execution_count": 102,
   "id": "5393aa66",
   "metadata": {},
   "outputs": [
    {
     "name": "stdout",
     "output_type": "stream",
     "text": [
      "One side of the square measures 3 cm\n",
      "Its perimeter measures 12 cm\n",
      "Its total area is 9 cm2\n"
     ]
    }
   ],
   "source": [
    "# ANSWER EXERCISE 2\n",
    "\n",
    "square_side = 3\n",
    "perimeter = square_side * 4\n",
    "area = square_side * square_side\n",
    "\n",
    "print(\"One side of the square measures\", square_side, \"cm\")\n",
    "print(\"Its perimeter measures\", perimeter, \"cm\")\n",
    "print(\"Its total area is\", area, \"cm2\")"
   ]
  },
  {
   "cell_type": "code",
   "execution_count": 103,
   "id": "7447cbff",
   "metadata": {},
   "outputs": [
    {
     "name": "stdout",
     "output_type": "stream",
     "text": [
      "One side of the square measures 3cm\n",
      "Its perimeter measures 12cm\n",
      "Its total area is 9cm2\n"
     ]
    }
   ],
   "source": [
    "# ALTERNATIVE ANSWER EXERCISE 2\n",
    "# This solution removes the spaces between the \"cm\" and the value, via string concatentation with str(val) and +\n",
    "\n",
    "square_side = 3\n",
    "perimeter = square_side * 4\n",
    "area = square_side * square_side\n",
    "\n",
    "print(\"One side of the square measures \" + str(square_side) + \"cm\")\n",
    "print(\"Its perimeter measures \" + str(perimeter) + \"cm\")\n",
    "print(\"Its total area is \" + str(area) + \"cm2\")"
   ]
  },
  {
   "cell_type": "code",
   "execution_count": 104,
   "id": "619fda00",
   "metadata": {},
   "outputs": [
    {
     "name": "stdout",
     "output_type": "stream",
     "text": [
      "Enter the length of one side of a square, in cm: 3\n",
      "One side of the square measures 3cm\n",
      "Its perimeter measures 12cm\n",
      "Its total area is 9cm2\n"
     ]
    }
   ],
   "source": [
    "# ANSWER EXERCISE 2 GOING FURTHER\n",
    "\n",
    "square_side = input(\"Enter the length of one side of a square, in cm: \")\n",
    "\n",
    "square_side = int(square_side)\n",
    "perimeter = (square_side) * 4\n",
    "area = square_side * square_side\n",
    "\n",
    "print(\"One side of the square measures \" + str(square_side) + \"cm\")\n",
    "print(\"Its perimeter measures \" + str(perimeter) + \"cm\")\n",
    "print(\"Its total area is \" + str(area) + \"cm2\")"
   ]
  },
  {
   "cell_type": "markdown",
   "id": "0c4d8e57",
   "metadata": {},
   "source": [
    "### Exercise 3\n",
    "\n",
    "a) Create 4 appropriately-named variables to describe the characteristics of a dog: its name, its age (in whole years), whether it has been neutered (true if yes, false if no), and the number of cups of food it eats per day. You can make up the required data (values for the variables) yourself. Print out each piece of information to the terminal, each on its own line, so for a dog called Toby it looks like this:\n",
    "\n",
    "```\n",
    "Name: Toby  \n",
    "Age: 3 \n",
    "Neutered: False  \n",
    "Cups of food per day: 4\n",
    "```\n",
    "\n",
    "b) Increase the dog's age by one year, using `+=`, and print e.g. `Toby is now 4 years old`.\n",
    "\n",
    "c) Based on a seven day week, calculate and print out a new variable for the amount of food the dog eats per week, in cups, and print e.g. `Toby eats 28 cups of food per week`\n",
    "    \n",
    "d) New scientific evidence suggests that to convert dog years to human years, you should multiply its age by 7.3. Calculate and print out the dog's age in human years, e.g. `Toby is 21.9 years old in human years`.\n",
    "    \n",
    "#### Go further\n",
    "Use the code `variable = input(\"insert your user prompt\")` to prompt the user to enter initials values for the dog (name, age etc), then carry out the other operations in the same way as before. Note that `input()` collects string values only, so you might need to convert some variables to more appropriate types."
   ]
  },
  {
   "cell_type": "code",
   "execution_count": 105,
   "id": "fb64d435",
   "metadata": {},
   "outputs": [
    {
     "name": "stdout",
     "output_type": "stream",
     "text": [
      "Name: Toby\n",
      "Age: 3\n",
      "Neutered: False\n",
      "Cups of food per day: 4\n",
      "Toby is now 4 years old\n",
      "Toby eats 28 cups of food per week\n",
      "Toby is 29.2 years old in human years\n"
     ]
    }
   ],
   "source": [
    "# ANSWER EXERCISE 3\n",
    "\n",
    "name = \"Toby\"\n",
    "age = 3\n",
    "neutered = False\n",
    "cups_food_pday = 4\n",
    "\n",
    "print(\"Name:\", name)\n",
    "print(\"Age:\", age)\n",
    "print(\"Neutered:\", neutered)\n",
    "print(\"Cups of food per day:\", cups_food_pday)\n",
    "\n",
    "age+=1\n",
    "print(name, \"is now\", age, \"years old\")\n",
    "\n",
    "cups_food_pweek = cups_food_pday * 7\n",
    "print(name, \"eats\", cups_food_pweek, \"cups of food per week\")\n",
    "\n",
    "age_human = age * 7.3\n",
    "print(name, \"is\", age_human, \"years old in human years\")"
   ]
  },
  {
   "cell_type": "code",
   "execution_count": null,
   "id": "3a031e46",
   "metadata": {},
   "outputs": [],
   "source": [
    "# ANSWER EXERCISE 3 GOING FURTHER\n",
    "\n",
    "name = input(\"What is your dog called? \")\n",
    "age = input(\"How old is your dog, in years? \")\n",
    "neutered = input(\"Is your dog neutered? Leave blank and hit enter for no, or enter Y for yes \")\n",
    "cups_food_pday = input(\"How many cups of food does your dog eat per day? \")\n",
    "\n",
    "age = int(age)\n",
    "neutered = bool(neutered)\n",
    "cups_food_pday = int(cups_food_pday)\n",
    "\n",
    "print(\"Name:\", name)\n",
    "print(\"Age:\", age)\n",
    "print(\"Neutered:\", neutered)\n",
    "print(\"Cups of food per day:\", cups_food_pday)\n",
    "\n",
    "age+=1\n",
    "print(name, \"is now\", age, \"years old\")\n",
    "\n",
    "cups_food_pweek = cups_food_pday * 7\n",
    "print(name, \"eats\", cups_food_pweek, \"cups of food per week\")\n",
    "\n",
    "age_human = age * 7.3\n",
    "print(name, \"is\", age_human, \"years old in human years\")"
   ]
  },
  {
   "cell_type": "markdown",
   "id": "e0bc19e8",
   "metadata": {},
   "source": [
    "### Exercise 4\n",
    "\n",
    "Create a variable `seconds` that holds a value representing a number of seconds. Then, based on that variable, calculate and print the number of hours, minutes and seconds that it translates to. So, for example, for a value of 5003 seconds, it should output:\n",
    "\n",
    "```\n",
    "5003 seconds is:  1 hour, 23 minutes and 23 seconds\n",
    "```\n",
    "\n",
    "Hint: you should use the modulo `%` operator.\n",
    "\n",
    "#### Go further\n",
    "Use the code `variable = input(\"insert your user prompt\")` to prompt the user to enter the value for the number of seconds, then print the information in the same format as before"
   ]
  },
  {
   "cell_type": "code",
   "execution_count": 106,
   "id": "f9a5cc1e",
   "metadata": {},
   "outputs": [
    {
     "name": "stdout",
     "output_type": "stream",
     "text": [
      "5003 seconds is: 1 hour 23 minutes and 23 seconds\n"
     ]
    }
   ],
   "source": [
    "# ANSWER EXERCISE 4\n",
    "\n",
    "seconds = 5003\n",
    "\n",
    "# there are 3600 seconds in an hour\n",
    "hours = seconds / 3600\n",
    "\n",
    "# these are all the seconds leftover that don't fit into a whole hour\n",
    "remainder_seconds = seconds % 3600\n",
    "\n",
    "# there are 60 seconds in a minute\n",
    "minutes = remainder_seconds / 60\n",
    "\n",
    "# these are all the seconds leftover that don't fit into whole hours or whole minutes\n",
    "remainder_seconds = remainder_seconds % 60\n",
    "\n",
    "# note the use of int() which rounds down instead of up, which is the behaviour we want\n",
    "print(str(seconds) + \" seconds is: \" + str(int(hours)) + \" hour \" + str(int(minutes)) + \" minutes and \" + str(remainder_seconds) + \" seconds\")"
   ]
  },
  {
   "cell_type": "code",
   "execution_count": 107,
   "id": "08e0601f",
   "metadata": {},
   "outputs": [
    {
     "name": "stdout",
     "output_type": "stream",
     "text": [
      "Enter a number of seconds: 5003\n",
      "5003 seconds is: 1 hour 23 minutes and 23 seconds\n"
     ]
    }
   ],
   "source": [
    "# ANSWER EXCERISE 4 GOING FURTHER\n",
    "\n",
    "seconds = input(\"Enter a number of seconds: \")\n",
    "\n",
    "seconds = int(seconds)\n",
    "\n",
    "# there are 3600 seconds in an hour\n",
    "hours = seconds / 3600\n",
    "\n",
    "# these are all the seconds leftover that don't fit into a whole hour\n",
    "remainder_seconds = seconds % 3600\n",
    "\n",
    "# there are 60 seconds in a minute\n",
    "minutes = remainder_seconds / 60\n",
    "\n",
    "# these are all the seconds leftover that don't fit into whole hours or whole minutes\n",
    "remainder_seconds = remainder_seconds % 60\n",
    "\n",
    "# note the use of int() which rounds down instead of up, which is the behaviour we want\n",
    "print(str(seconds) + \" seconds is: \" + str(int(hours)) + \" hour \" + str(int(minutes)) + \" minutes and \" + str(remainder_seconds) + \" seconds\")"
   ]
  },
  {
   "cell_type": "markdown",
   "id": "22fc8748-36e3-410b-b224-2758a91c8311",
   "metadata": {},
   "source": [
    "### Exercice 5\n",
    "\n",
    "Write Python code that finds the largest of 3 numbers without using conditionals, solely relying on mathematical operations.\n",
    "\n",
    "#### Example\n",
    "\n",
    "num1 = 15  \n",
    "num2 = 22  \n",
    "num3 = 8\n",
    "\n",
    "The largest number is: 22\n",
    "\n",
    "### Go further\n",
    "\n",
    "Use the code variable = input(\"insert your user prompt\") to enter the values of num1, num2, and num3."
   ]
  },
  {
   "cell_type": "code",
   "execution_count": 108,
   "id": "c274e9be-c2a7-4d73-8e49-d22c00fcf2c2",
   "metadata": {},
   "outputs": [
    {
     "name": "stdout",
     "output_type": "stream",
     "text": [
      "The largest number is: 22\n"
     ]
    }
   ],
   "source": [
    "# ANSWER EXERCISE 5\n",
    "\n",
    "num1 = 1\n",
    "num2 = 22\n",
    "num3 = 8\n",
    "\n",
    "# Use the inbuilt max() function in Python\n",
    "max_num = max(num1, num2, num3)\n",
    "print(\"The largest number is:\", max_num)"
   ]
  },
  {
   "cell_type": "code",
   "execution_count": 109,
   "id": "71c813aa-7730-4c47-990e-95f348c33724",
   "metadata": {},
   "outputs": [
    {
     "name": "stdout",
     "output_type": "stream",
     "text": [
      "Enter a number 1\n",
      "Enter another number 22\n",
      "Enter a final number 8\n",
      "The largest number is: 22\n"
     ]
    }
   ],
   "source": [
    "# ANSWER EXERCISE 5 GOING FURTHER\n",
    "\n",
    "num1 = int(input(\"Enter a number \"))\n",
    "num2 = int(input(\"Enter another number \"))\n",
    "num3 = int(input(\"Enter a final number \"))\n",
    "\n",
    "# Use the inbuilt max() function in Python\n",
    "max_num = max(num1, num2, num3)\n",
    "print(\"The largest number is:\", max_num)"
   ]
  },
  {
   "cell_type": "markdown",
   "id": "2def70e2",
   "metadata": {},
   "source": [
    "### Exercise 6\n",
    "\n",
    " a) Create 4 appropriately-named variables to describe a town: its name, its population (no less than 30), its area in square km, and the average happiness score of its population on a scale of one to ten (no less than 3). \n",
    " \n",
    "Print out each piece of information to the terminal, each on its own line, so for a town called Pleasantville it looks like this:\n",
    " \n",
    "```\n",
    "Name: Pleasantville\n",
    "Population: 3000\n",
    "Area: 6.2km2\n",
    "Happiness: 7.5\n",
    "```\n",
    "\n",
    "b) There's an earthquake in the town and people aren't happy. Happiness decreases by 3 points. Change the value for the happiness variable accordingly, and print out a statement to say what happened and announce the new happiness score.\n",
    "\n",
    "c) Because of the earthquake, the town's area is reduced by 25%, and 30 of the people living there decide to leave. Change the value for the population and area variables accordingly, and print out a statement to announce the new population. Display two decimal points maximum for the area.\n",
    "\n",
    "d) A neighbouring town decides to help by gifting the town an extra 0.5 square km of buildable land. Happiness increases by 10% percent, and the population increases by 20 as some people come back. Change the values for the area, happiness and population variables accordingly and print out a statement to thank the neighbouring town, and announce the new situation. Because of political pressure, when you announce the new values you should round everything up to the nearest whole numbers (if they are decimals).\n",
    "\n",
    "When checking your work, for Pleasantville and the values given at the beginning of this exerise, the final area should be announced as 5km2, the population as 2990 and the happiness score as 5\n",
    "\n",
    "\n",
    "### Go further\n",
    "\n",
    "Use the code variable = input(\"insert your user prompt\") to enter the initial values for the name of the town, its population, its area and its happiness score."
   ]
  },
  {
   "cell_type": "code",
   "execution_count": 110,
   "id": "f2796d6e",
   "metadata": {},
   "outputs": [
    {
     "name": "stdout",
     "output_type": "stream",
     "text": [
      "Name:  Pleasantville\n",
      "Population:  3000\n",
      "Area:  6.2\n",
      "Happiness:  7.5\n",
      "Due to the tragic earthquake, the happiness score in Pleasantville is now 4.5\n",
      "We are sad to announce that the area of Pleasantville is now 4.65km2 and the population is now 2970\n",
      "Thanks to our neighbours in Niceville, the area of Pleasantville is now 5 km2, the population is now 2990 and the happiness score is now 5\n"
     ]
    }
   ],
   "source": [
    "# ANSWER EXERCISE 6\n",
    "\n",
    "name = \"Pleasantville\"\n",
    "pop = 3000\n",
    "area = 6.2\n",
    "happiness = 7.5\n",
    "\n",
    "print(\"Name: \", name)\n",
    "print(\"Population: \", pop)\n",
    "print(\"Area: \", area)\n",
    "print(\"Happiness: \", happiness)\n",
    "\n",
    "# earthquake!\n",
    "happiness -=3\n",
    "print(\"Due to the tragic earthquake, the happiness score in\", name, \"is now\", happiness)\n",
    "\n",
    "# area reduced and population leave\n",
    "area = area*0.75\n",
    "pop-=30\n",
    "print(\"We are sad to announce that the area of \" + str(name) + \" is now \" + str(round(area,2))\n",
    "      + \"km2 and the population is now \" + str(pop))\n",
    "\n",
    "# area increases, so do happiness and population\n",
    "area += 0.5\n",
    "happiness = happiness *1.1\n",
    "pop += 20\n",
    "print(\"Thanks to our neighbours in Niceville, the area of \" + str(name) + \" is now \" + str(round(area)), \n",
    "      \"km2, the population is now \" + str(pop) + \" and the happiness score is now \" + str(round(happiness)))\n",
    "\n"
   ]
  },
  {
   "cell_type": "markdown",
   "id": "a2e2609c",
   "metadata": {},
   "source": [
    "### Exercise 7\n",
    "\n",
    "MemesRUs is a startup providing an app to help people create their own memes. These are the statistics for the amount of tickets that their support team handled in each quarter of 2023:\n",
    "\n",
    "q1 = 103  \n",
    "q2 = 191  \n",
    "q3 = 180  \n",
    "q4 = 220  \n",
    "\n",
    "Calculate and print the following information:\n",
    "- The total number of tickets handled all year\n",
    "- The average number of tickets per quarter (round to two decimal places)\n",
    "- The average number of tickets per week (round to two decimal places)\n",
    "\n",
    "For the values given, it should display:\n",
    "```\n",
    "The number of tickets handled in 2023 was 694\n",
    "The average number of tickets handled per quarter was 173.5\n",
    "The average number of tickets handled per week was 13.35\n",
    "```\n",
    "\n",
    "It is expected that in 2024, the number of tickets in Q1 and Q2 will increase by 10% each, in Q3 there will be a 5% decrease, and in Q4 a 22% increase. Print out the predicted number of tickets for the year 2024 (create new variables if necessary). Round to the nearest whole number.\n",
    "\n",
    "For the values given, it should display:\n",
    "\n",
    "```\n",
    "The total number of tickets predicted for 2024 is 763\n",
    "```"
   ]
  },
  {
   "cell_type": "code",
   "execution_count": 111,
   "id": "34e87bca",
   "metadata": {},
   "outputs": [
    {
     "name": "stdout",
     "output_type": "stream",
     "text": [
      "The number of tickets handled in 2023 was 694\n",
      "The average number of tickets handled per quarter was 173.5\n",
      "The average number of tickets handled per week was 13.35\n",
      "The total number of tickets predicted for 2024 is 763\n"
     ]
    }
   ],
   "source": [
    "# ANSWER EXERCISE 7\n",
    "\n",
    "q1 = 103\n",
    "q2 = 191\n",
    "q3 = 180\n",
    "q4 = 220 \n",
    "\n",
    "total_2023 = q1 + q2 + q3 + q4\n",
    "avg_q = total_yr/4\n",
    "avg_w = total_yr/52\n",
    "\n",
    "print(\"The number of tickets handled in 2023 was\", total_2023)\n",
    "print(\"The average number of tickets handled per quarter was\", round(avg_q,2))\n",
    "print(\"The average number of tickets handled per week was\", round(avg_w,2))\n",
    "\n",
    "q1_2024 = q1*1.1\n",
    "q2_2024 = q2*1.1\n",
    "q3_2024 = q3*0.95\n",
    "q4_2024 = q4*1.22\n",
    "\n",
    "total_2024 = q1_2024 + q2_2024 + q3_2024 + q4_2024\n",
    "\n",
    "print(\"The total number of tickets predicted for 2024 is\", round(total_2024))"
   ]
  }
 ],
 "metadata": {
  "kernelspec": {
   "display_name": "Python 3 (ipykernel)",
   "language": "python",
   "name": "python3"
  },
  "language_info": {
   "codemirror_mode": {
    "name": "ipython",
    "version": 3
   },
   "file_extension": ".py",
   "mimetype": "text/x-python",
   "name": "python",
   "nbconvert_exporter": "python",
   "pygments_lexer": "ipython3",
   "version": "3.10.9"
  }
 },
 "nbformat": 4,
 "nbformat_minor": 5
}
