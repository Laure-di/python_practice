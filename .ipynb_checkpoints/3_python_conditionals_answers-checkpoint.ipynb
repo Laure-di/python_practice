{
 "cells": [
  {
   "cell_type": "markdown",
   "id": "19464cb9",
   "metadata": {},
   "source": [
    "# Python Conditionals - Answers\n",
    "\n",
    "Practice exercises for using conditionals with Python.\n",
    "\n",
    "## Prerequisites\n",
    "\n",
    "In order to complete these exercises, you should know how to:\n",
    "- Create variables\n",
    "- Use print statements (to print strings and variables)\n",
    "- Use basic mathematic operators (`+`, `-`, `*`, `/`, `%` etc.)\n",
    "- Use relational operators ( `>`, `<`, `==`, `>=`, `<=`, `!=`)\n",
    "- Use logical operators (`and`, `or`, `not`\n",
    "- Use if, else and elif statements\n",
    "\n",
    "In order to complete the \"Going Further\" exercises, you should also know how to:\n",
    "- Write functions"
   ]
  },
  {
   "cell_type": "markdown",
   "id": "5cc9cee9",
   "metadata": {},
   "source": [
    "### Exercise 1\n",
    "\n",
    "Write python code that checks whether the value of the variable `x` is greater than the value of the variable `y`, and then prints an appropriate message. Make sure it can deal with a case where `x` and `y` have the same value\n",
    "\n",
    "#### Go further\n",
    "Rewrite your code as a function which takes the two numbers as arguments, and test it by calling the function with different arguments"
   ]
  },
  {
   "cell_type": "code",
   "execution_count": 1,
   "id": "cf2c5134",
   "metadata": {},
   "outputs": [
    {
     "name": "stdout",
     "output_type": "stream",
     "text": [
      "x and y are the same\n"
     ]
    }
   ],
   "source": [
    "# test by changing these to a variety of different numbers, including floating point (decimal) numbers and integers.\n",
    "x = 8\n",
    "y = 8\n",
    "\n",
    "# ANSWER EXERCISE 1\n",
    "# Note depending on the context it may be more appropriate to print the values rather than \"x\" and \"y\"\n",
    "# (see Going Further)\n",
    "\n",
    "if x > y:\n",
    "    print(\"x is greater than y\")\n",
    "elif x == y:\n",
    "    print(\"x and y are the same\")\n",
    "else:\n",
    "    print(\"x is smaller than y\")"
   ]
  },
  {
   "cell_type": "code",
   "execution_count": 2,
   "id": "b689242e",
   "metadata": {},
   "outputs": [
    {
     "name": "stdout",
     "output_type": "stream",
     "text": [
      "6 is smaller than 8\n"
     ]
    }
   ],
   "source": [
    "# ANSWER EXERCISE 1 GOING FURTHER\n",
    "\n",
    "def compare_nums(x, y):\n",
    "    if x > y:\n",
    "        print(x, \"is greater than\", y)\n",
    "    elif x == y:\n",
    "        print(x, \"and\", y, \"are the same\")\n",
    "    else:\n",
    "        print(x, \"is smaller than\", y)\n",
    "\n",
    "compare_nums(6,8)        "
   ]
  },
  {
   "cell_type": "markdown",
   "id": "13ba7556",
   "metadata": {},
   "source": [
    "### Exercise 2\n",
    "\n",
    "Write python code that tests whether the value of the variable `num` is a whole number or not. If it is a whole number, it should also state whether it is even or odd.\n",
    "\n",
    "For the number 5.5 it should print:  \n",
    "```\n",
    "5.5 is not a whole number\n",
    "``` \n",
    "\n",
    "For the number 106 it should print:\n",
    "```\n",
    "106 is a whole number \n",
    "106 is an even number\n",
    "```\n",
    "\n",
    "#### Go further\n",
    "Rewrite your code as a function which takes the number as an argument, and test it by calling the function with different arguments"
   ]
  },
  {
   "cell_type": "code",
   "execution_count": 3,
   "id": "405931fc",
   "metadata": {},
   "outputs": [
    {
     "name": "stdout",
     "output_type": "stream",
     "text": [
      "6 is a whole number\n",
      "6 is an even number\n"
     ]
    }
   ],
   "source": [
    "# ANSWER EXERCISE 2\n",
    "\n",
    "# test by changing this to a variety of different numbers, including floating point (decimal) numbers and integers.\n",
    "num = 6\n",
    "\n",
    "if num%1 !=0:\n",
    "    print(num, \"is not a whole number\")\n",
    "else:\n",
    "    print(num, \"is a whole number\")\n",
    "    if num%2 == 0:\n",
    "        print(num, \"is an even number\")\n",
    "    else:\n",
    "        print(num, \"is an odd number\")"
   ]
  },
  {
   "cell_type": "code",
   "execution_count": 4,
   "id": "5393aa66",
   "metadata": {},
   "outputs": [
    {
     "name": "stdout",
     "output_type": "stream",
     "text": [
      "106 is a whole number\n",
      "106 is an even number\n"
     ]
    }
   ],
   "source": [
    "# test by changing this to a variety of different numbers, including floating point (decimal) numbers and integers.\n",
    "num = 5.5\n",
    "\n",
    "## ANSWER EXERCISE 2 GOING FURTHER\n",
    "\n",
    "def check_number(num):\n",
    "    \n",
    "    if num%1 !=0:\n",
    "        print(num, \"is not a whole number\")\n",
    "    else:\n",
    "        print(num, \"is a whole number\")\n",
    "        if num%2 == 0:\n",
    "            print(num, \"is an even number\")\n",
    "        else:\n",
    "            print(num, \"is an odd number\")\n",
    "\n",
    "check_number(106)"
   ]
  },
  {
   "cell_type": "markdown",
   "id": "e0bc19e8",
   "metadata": {},
   "source": [
    "### Exercise 3\n",
    "\n",
    "Write python code that prompts a user to enter one of three words: \"tic\", \"tac\" or \"toe\". If the user doesn't enter any of these words, print an error message. Otherwise, do nothing."
   ]
  },
  {
   "cell_type": "code",
   "execution_count": 5,
   "id": "0277a7c2",
   "metadata": {},
   "outputs": [
    {
     "name": "stdout",
     "output_type": "stream",
     "text": [
      "Enter tic, tac or toe: tic\n"
     ]
    }
   ],
   "source": [
    "## ANSWER EXERCISE 3\n",
    "\n",
    "word = input(\"Enter tic, tac or toe: \")\n",
    "\n",
    "if word != \"tic\" and word != \"tac\" and word != \"toe\":\n",
    "    print(\"An error occured\")\n",
    "else:\n",
    "    pass"
   ]
  },
  {
   "cell_type": "markdown",
   "id": "d581b44f",
   "metadata": {},
   "source": [
    "### Exercise 4\n",
    "\n",
    "Write python code that prompts a user to enter a reply to a party invitation. If they enter \"n\", \"N\", \"NO\", \"no\", or \"No\", print `I didn't want you to come anyway`. If they enter \"y\", \"Y\", \"yes\", \"YES\" or \"Yes\", print `Great, I can't wait to see you!`. Otherwise, print an error message of your choice."
   ]
  },
  {
   "cell_type": "code",
   "execution_count": 6,
   "id": "aaef32c4",
   "metadata": {},
   "outputs": [
    {
     "name": "stdout",
     "output_type": "stream",
     "text": [
      "Can you come to my party? no\n",
      "I didn't want you to come anyway\n"
     ]
    }
   ],
   "source": [
    "## ANSWER EXERCISE 4\n",
    "\n",
    "reply = input(\"Can you come to my party? \")\n",
    "\n",
    "if reply == \"no\" or reply == \"No\" or reply == \"NO\" or reply == \"n\" or reply == \"N\":\n",
    "    print(\"I didn't want you to come anyway\")\n",
    "elif reply == \"yes\" or reply == \"Yes\" or reply == \"YES\" or reply == \"y\" or reply == \"Y\":\n",
    "    print(\"I can't wait to see you!\")\n",
    "else:\n",
    "    print(\"Sorry, I don't understand\")\n"
   ]
  },
  {
   "cell_type": "code",
   "execution_count": 7,
   "id": "df9f9135",
   "metadata": {},
   "outputs": [
    {
     "name": "stdout",
     "output_type": "stream",
     "text": [
      "Can you come to my party? y\n",
      "I can't wait to see you!\n"
     ]
    }
   ],
   "source": [
    "## ALTERNATIVE ANSWER EXERCISE 4\n",
    "\n",
    "reply = input(\"Can you come to my party? \")\n",
    "\n",
    "if reply in [\"no\", \"No\", \"NO\", \"n\", \"N\"]:\n",
    "    print(\"I didn't want you to come anyway\")\n",
    "elif reply in [\"yes\", \"Yes\", \"YES\", \"y\", \"Y\"]:\n",
    "    print(\"I can't wait to see you!\")\n",
    "else:\n",
    "    print(\"Sorry, I don't understand\")"
   ]
  },
  {
   "cell_type": "markdown",
   "id": "85b56cb2",
   "metadata": {},
   "source": [
    "### Exercise 5\n",
    "Write python code that prints a statement saying how many cups of food a given dog should get per day, depending on the following rules:\n",
    "\n",
    "- The starting assumption is that \"small\" dogs should get 2 cups, \"medium\" dogs should get 3 cups and \"large\" dogs should get 4 cups\n",
    "- However, if the dog is 2 years old or younger, it should get an extra 1 cup per day. If it is 8 years old or older, it should get 0.5 cups less per day.\n",
    "- If the dog is neutered, then the cups of food per day should be decreased by 0.25\n",
    "\n",
    "For a medium 4 year old dog who is not neutered, it should print `This medium unneutered 4 year old dog should get 3 cups of food per day`. For a large, 2 year old dog who is neutered, it should print `This large neutered 2 year old dog should get 4.75 cups of food per day`.\n",
    "\n",
    "The `size`, `age` and `is_neutered` variables have been coded for you with some example values. Make sure you test your code thoroughly by changing these values and checking that the correct outputs are given.\n",
    "\n",
    "#### Go further\n",
    "Rewrite your code as a function which takes the three variables as arguments and simply returns a value for the cups of food. Test it by calling the function with different arguments"
   ]
  },
  {
   "cell_type": "code",
   "execution_count": 8,
   "id": "284cf690",
   "metadata": {},
   "outputs": [
    {
     "name": "stdout",
     "output_type": "stream",
     "text": [
      "This large neutered 2 year old dog should get 4.75 cups of food per day\n"
     ]
    }
   ],
   "source": [
    "# ANSWER EXERCISE 5\n",
    "\n",
    "# characteristics of a dog\n",
    "\n",
    "# size can take the string values \"small\", \"medium\" or \"large\"\n",
    "size = \"large\"\n",
    "# age can take an integer value, which represents age in years\n",
    "age = 2\n",
    "# neutered is a boolean value\n",
    "is_neutered = True \n",
    "\n",
    "if size == \"small\":\n",
    "    cups = 2\n",
    "elif size == \"medium\":\n",
    "    cups = 3\n",
    "elif size == \"large\":\n",
    "    cups = 4\n",
    "\n",
    "if age <=2:\n",
    "    cups +=1\n",
    "elif age >=8:\n",
    "    cups -= 0.5\n",
    "\n",
    "if is_neutered == True:\n",
    "    cups -= 0.25\n",
    "    neutered_text = \"neutered\"\n",
    "else:\n",
    "    neutered_text = \"unneutered\"\n",
    "\n",
    "print(\"This\", size, neutered_text, age, \"year old dog should get\", cups, \"cups of food per day\")"
   ]
  },
  {
   "cell_type": "code",
   "execution_count": 9,
   "id": "546db6ad",
   "metadata": {},
   "outputs": [
    {
     "name": "stdout",
     "output_type": "stream",
     "text": [
      "4.75\n"
     ]
    }
   ],
   "source": [
    "# ANSWER EXERCISE 5 GOING FURTHER\n",
    "\n",
    "def calc_cups(size, age, is_neutered):\n",
    "    if size == \"small\":\n",
    "        cups = 2\n",
    "    elif size == \"medium\":\n",
    "        cups = 3\n",
    "    elif size == \"large\":\n",
    "        cups = 4\n",
    "\n",
    "    if age <=2:\n",
    "        cups +=1\n",
    "    elif age >=8:\n",
    "        cups -= 0.5\n",
    "\n",
    "    if is_neutered == True:\n",
    "        cups -= 0.25\n",
    "\n",
    "    return cups\n",
    "\n",
    "cups = calc_cups(\"large\", 2, True)\n",
    "print(cups)"
   ]
  },
  {
   "cell_type": "markdown",
   "id": "0c4d8e57",
   "metadata": {},
   "source": [
    "### Exercise 6\n",
    "\n",
    "Write python code that checks whether the integer value of the variable `year`, represents a leap year or not.  It then prints out an appropriate message. Use the following information to help you:\n",
    "\n",
    "*A year must be evenly divisible by 4 to be a leap year.*\n",
    "\n",
    "*However, a year that is evenly divisible by 4 but also evenly divisible by 100 (for example, 1900) is a leap year only if it is also evenly divisible by 400.*\n",
    "\n",
    "*The following years are not leap years: 1700, 1791, 1800, 1803, 1900, 1999, 2100, 2200* \n",
    "\n",
    "*The following years are leap years: 1600, 1988, 1992, 1996, 2000, 2400.*\n",
    "    \n",
    "#### Go further\n",
    "Rewrite your code as a function which takes the year value as an argument, and test it by calling the function with different arguments"
   ]
  },
  {
   "cell_type": "code",
   "execution_count": 10,
   "id": "72cf2731",
   "metadata": {},
   "outputs": [
    {
     "name": "stdout",
     "output_type": "stream",
     "text": [
      "1700 is not a leap year\n"
     ]
    }
   ],
   "source": [
    "# ANSWER EXERCISE 6\n",
    "\n",
    "year = 1700\n",
    "\n",
    "if year % 4 == 0:\n",
    "    if year % 100 == 0: \n",
    "        if year % 400 == 0:\n",
    "            print(year, \"is a leap year\")\n",
    "        else:\n",
    "            print(year, \"is not a leap year\")\n",
    "    else:\n",
    "        print(year, \"is a leap year\")\n",
    "else:\n",
    "    print(year, \"is not a leap year\")"
   ]
  },
  {
   "cell_type": "code",
   "execution_count": 11,
   "id": "08a8c395",
   "metadata": {},
   "outputs": [
    {
     "name": "stdout",
     "output_type": "stream",
     "text": [
      "1600 is a leap year\n"
     ]
    }
   ],
   "source": [
    "# ANSWER EXERCISE 6 GOING FURTHER\n",
    "\n",
    "def check_leap_year(year):\n",
    "    if year % 4 == 0:\n",
    "        if year % 100 == 0: \n",
    "            if year % 400 == 0:\n",
    "                print(year, \"is a leap year\")\n",
    "            else:\n",
    "                print(year, \"is not a leap year\")\n",
    "        else:\n",
    "            print(year, \"is a leap year\")\n",
    "    else:\n",
    "        print(year, \"is not a leap year\")\n",
    "            \n",
    "check_leap_year(1600)"
   ]
  },
  {
   "cell_type": "code",
   "execution_count": 12,
   "id": "7004e080",
   "metadata": {},
   "outputs": [
    {
     "name": "stdout",
     "output_type": "stream",
     "text": [
      "1600 is a leap year\n"
     ]
    }
   ],
   "source": [
    "# ANSWER EXERCISE 6 GOING FURTHER\n",
    "# alternative with logical operators\n",
    "\n",
    "def check_leap_year(year):\n",
    "    if (year % 400 == 0) or ((year % 100 != 0) and (year % 4 == 0)): \n",
    "        print(year, \"is a leap year\");\n",
    "    else:\n",
    "        print(year, \"is not a leap year\")\n",
    "\n",
    "check_leap_year(1600)"
   ]
  },
  {
   "cell_type": "code",
   "execution_count": null,
   "id": "335b4b96",
   "metadata": {},
   "outputs": [],
   "source": []
  }
 ],
 "metadata": {
  "kernelspec": {
   "display_name": "Python 3 (ipykernel)",
   "language": "python",
   "name": "python3"
  },
  "language_info": {
   "codemirror_mode": {
    "name": "ipython",
    "version": 3
   },
   "file_extension": ".py",
   "mimetype": "text/x-python",
   "name": "python",
   "nbconvert_exporter": "python",
   "pygments_lexer": "ipython3",
   "version": "3.10.9"
  }
 },
 "nbformat": 4,
 "nbformat_minor": 5
}
