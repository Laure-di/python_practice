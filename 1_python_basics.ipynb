{
 "cells": [
  {
   "cell_type": "markdown",
   "id": "bde29102",
   "metadata": {},
   "source": [
    "# Python Fundamentals\n",
    "\n",
    "Practice exercises for python fundamentals: variables, print statements and mathematical operators.\n",
    "\n",
    "## Prerequisites\n",
    "\n",
    "In order to complete these exercises, you should know how to:\n",
    "- Create variables\n",
    "- Use print statements (to print strings, and variables inside strings)\n",
    "- Use the basic mathematic operators (`+`, `-`, `*`, `/`, `%`, `+=` etc.)\n",
    "\n",
    "In order to complete the \"Going Further\" exercises, you should also know how to:\n",
    "- Use input() to collect input from a user\n",
    "- Explicitly convert a variable from one type (eg string) to another (eg int)"
   ]
  },
  {
   "cell_type": "markdown",
   "id": "85b56cb2",
   "metadata": {},
   "source": [
    "### Exercise 1\n",
    "Write python code that prints your name, job title and email address in the following format:\n",
    "\n",
    "Name  \n",
    "Job title  \n",
    "Email address\n",
    "\n",
    "#### Go further\n",
    "Use the code `variable = input(\"insert your user prompt\")` to prompt the user to enter their name, job title and email address, then print the information in the same format as before"
   ]
  },
  {
   "cell_type": "code",
   "execution_count": null,
   "id": "284cf690",
   "metadata": {},
   "outputs": [],
   "source": []
  },
  {
   "cell_type": "markdown",
   "id": "13ba7556",
   "metadata": {},
   "source": [
    "### Exercise 2\n",
    "\n",
    "Create a variable `square_side` that holds the length of one side of a square, in cm. Based on that variable, calculate and print the length of the perimeter of the square, and the area of the square. For a square with one side that measures 3cm, the following should be displayed:\n",
    "\n",
    "```\n",
    "One side of the square measures 3cm\n",
    "Its perimeter measures 12cm\n",
    "Its total area is 9cm2\n",
    "```\n",
    "\n",
    "#### Go further\n",
    "Use the code `variable = input(\"insert your user prompt\")` to prompt the user to enter the value for the square side, then print the information in the same format as before"
   ]
  },
  {
   "cell_type": "code",
   "execution_count": null,
   "id": "5393aa66",
   "metadata": {},
   "outputs": [],
   "source": []
  },
  {
   "cell_type": "markdown",
   "id": "0c4d8e57",
   "metadata": {},
   "source": [
    "### Exercise 3\n",
    "\n",
    "a) Create 4 appropriately-named variables to describe the characteristics of a dog: its name, its age (in whole years), whether it has been neutered (true if yes, false if no), and the number of cups of food it eats per day. You can make up the required data (values for the variables) yourself. Print out each piece of information to the terminal, each on its own line, so for a dog called Toby it looks like this:\n",
    "\n",
    "```\n",
    "Name: Toby  \n",
    "Age: 3 \n",
    "Neutered: False  \n",
    "Cups of food per day: 4\n",
    "```\n",
    "\n",
    "b) Increase the dog's age by one year, using `+=`, and print e.g. `Toby is now 4 years old`.\n",
    "\n",
    "c) Based on a seven day week, calculate and print out a new variable for the amount of food the dog eats per week, in cups, and print e.g. `Toby eats 28 cups of food per week`\n",
    "    \n",
    "d) New scientific evidence suggests that to convert dog years to human years, you should multiply its age by 7.3. Calculate and print out the dog's age in human years, e.g. `Toby is 21.9 years old in human years`.\n",
    "    \n",
    "#### Go further\n",
    "Use the code `variable = input(\"insert your user prompt\")` to prompt the user to enter initials values for the dog (name, age etc), then carry out the other operations in the same way as before. Note that `input()` collects string values only, so you might need to convert some variables to more appropriate types."
   ]
  },
  {
   "cell_type": "code",
   "execution_count": null,
   "id": "fb64d435",
   "metadata": {},
   "outputs": [],
   "source": []
  },
  {
   "cell_type": "markdown",
   "id": "e0bc19e8",
   "metadata": {},
   "source": [
    "### Exercise 4\n",
    "\n",
    "Create a variable `seconds` that holds a value representing a number of seconds. Then, based on that variable, calculate and print the number of hours, minutes and seconds that it translates to. So, for example, for a value of 5003 seconds, it should output:\n",
    "\n",
    "```\n",
    "5003 seconds is:  1 hour, 23 minutes and 23 seconds\n",
    "```\n",
    "\n",
    "Hint: you should use the modulo `%` operator.\n",
    "\n",
    "#### Go further\n",
    "Use the code `variable = input(\"insert your user prompt\")` to prompt the user to enter the value for the number of seconds, then print the information in the same format as before"
   ]
  },
  {
   "cell_type": "code",
   "execution_count": null,
   "id": "0277a7c2",
   "metadata": {},
   "outputs": [],
   "source": []
  },
  {
   "cell_type": "markdown",
   "id": "22fc8748-36e3-410b-b224-2758a91c8311",
   "metadata": {},
   "source": [
    "### Exercice 5\n",
    "\n",
    "Write Python code that finds the largest of 3 numbers without using conditionals, solely relying on mathematical operations.\n",
    "\n",
    "#### Example\n",
    "\n",
    "num1 = 15  \n",
    "num2 = 22  \n",
    "num3 = 8\n",
    "\n",
    "The largest number is: 22\n",
    "\n",
    "### Go further\n",
    "\n",
    "Use the code variable = input(\"insert your user prompt\") to enter the values of num1, num2, and num3."
   ]
  },
  {
   "cell_type": "code",
   "execution_count": null,
   "id": "c274e9be-c2a7-4d73-8e49-d22c00fcf2c2",
   "metadata": {},
   "outputs": [],
   "source": []
  },
  {
   "cell_type": "markdown",
   "id": "2a146f60",
   "metadata": {},
   "source": [
    "### Exercice 6\n",
    "\n",
    "a) Create 4 appropriately-named variables to describe a town: its name, its population (no less than 30), its area in square km, and the average happiness score of its population on a scale of one to ten (no less than 3). \n",
    " \n",
    "Print out each piece of information to the terminal, each on its own line, so for a town called Pleasantville it looks like this:\n",
    " \n",
    "```\n",
    "Name: Pleasantville\n",
    "Population: 3000\n",
    "Area: 6.2km2\n",
    "Happiness: 7.5\n",
    "```\n",
    "\n",
    "b) There's an earthquake in the town and people aren't happy. Happiness decreases by 3 points. Change the value for the happiness variable accordingly, and print out a statement to say what happened and announce the new happiness score.\n",
    "\n",
    "c) Because of the earthquake, the town's area is reduced by 25%, and a third of the town's population decide to leave. Change the value for the population and area variables accordingly, and print out a statement to announce the new population.\n",
    "\n",
    "d) A neighbouring town decides to help by gifting the town an extra 0.5 square km of buildable land. Happiness increases by 1 point, and the population increases by 10% as some people come back. Change the values for the area, happiness and population variables accordingly and print out a statement to thank the neighbouring town, and announce the new situation. Because of political pressure, when you announce the new area and new happiness score you should round both values up to the nearest whole numbers (if they are decimals).\n",
    "\n",
    "For Pleasantville and the values given at the beginning of this exerise, the final area should be announced as 5km2, the population as 2990 and the happiness score as 5\n",
    "\n",
    "\n",
    "### Go further\n",
    "\n",
    "Use the code variable = input(\"insert your user prompt\") to enter the initial values for the name of the town, its population, its area and its happiness score."
   ]
  },
  {
   "cell_type": "code",
   "execution_count": null,
   "id": "92c4f3c9",
   "metadata": {},
   "outputs": [],
   "source": []
  },
  {
   "cell_type": "markdown",
   "id": "8f62c320",
   "metadata": {},
   "source": [
    "### Exercise 7\n",
    "\n",
    "MemesRUs is a startup providing an app to help people create their own memes. These are the statistics for the amount of tickets that their support team handled in each quarter of 2023:\n",
    "\n",
    "q1 = 103  \n",
    "q2 = 191  \n",
    "q3 = 180  \n",
    "q4 = 220  \n",
    "\n",
    "Calculate and print the following information:\n",
    "- The total number of tickets handled all year\n",
    "- The average number of tickets per quarter (round to two decimal places)\n",
    "- The average number of tickets per week (round to two decimal places)\n",
    "\n",
    "For the values given, it should display:\n",
    "```\n",
    "The number of tickets handled in 2023 was 694\n",
    "The average number of tickets handled per quarter was 173.5\n",
    "The average number of tickets handled per week was 13.35\n",
    "```\n",
    "\n",
    "It is expected that in 2024, the number of tickets in Q1 and Q2 will increase by 10% each, in Q3 there will be a 5% decrease, and in Q4 a 22% increase. Print out the predicted number of tickets for the year 2024 (create new variables if necessary). Round to the nearest whole number.\n",
    "\n",
    "For the values given, it should display:\n",
    "\n",
    "```\n",
    "The total number of tickets predicted for 2024 is 763\n",
    "```"
   ]
  },
  {
   "cell_type": "code",
   "execution_count": null,
   "id": "a2dd2127",
   "metadata": {},
   "outputs": [],
   "source": []
  }
 ],
 "metadata": {
  "kernelspec": {
   "display_name": "Python 3 (ipykernel)",
   "language": "python",
   "name": "python3"
  },
  "language_info": {
   "codemirror_mode": {
    "name": "ipython",
    "version": 3
   },
   "file_extension": ".py",
   "mimetype": "text/x-python",
   "name": "python",
   "nbconvert_exporter": "python",
   "pygments_lexer": "ipython3",
   "version": "3.10.9"
  }
 },
 "nbformat": 4,
 "nbformat_minor": 5
}
