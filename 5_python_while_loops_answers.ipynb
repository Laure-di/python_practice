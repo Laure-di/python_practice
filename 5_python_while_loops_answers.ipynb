{
 "cells": [
  {
   "cell_type": "markdown",
   "id": "19464cb9",
   "metadata": {},
   "source": [
    "# Python While Loops Answers\n",
    "\n",
    "Practice exercises for for using while loops with Python.\n",
    "\n",
    "## Prerequisites\n",
    "\n",
    "In order to complete these exercises, you should know how to:\n",
    "- Create variables\n",
    "- Use print statements (to print strings and variables)\n",
    "- Use basic mathematic operators (`+`, `-`, `*`, `/`, `%` etc.)\n",
    "- Use relational operators ( `>`, `<`, `==`, `>=`, `<=`, `!=`)\n",
    "- Use logical operators (`and`, `or`, `not`)\n",
    "- Use input() to collect user input\n",
    "- Create functions\n",
    "- Use if, else and elif statements\n",
    "- Use while loops"
   ]
  },
  {
   "cell_type": "markdown",
   "id": "40521b97",
   "metadata": {},
   "source": [
    "### Exercise 0\n",
    "\n",
    "Create a variable `num` that has a value of 12. Then write a while loop that prints every number from 1 up to that number.\n",
    "\n",
    "Hint: you need to create another variable as well as `num`."
   ]
  },
  {
   "cell_type": "code",
   "execution_count": 10,
   "id": "e2f9536b",
   "metadata": {},
   "outputs": [
    {
     "name": "stdout",
     "output_type": "stream",
     "text": [
      "1\n",
      "2\n",
      "3\n",
      "4\n",
      "5\n",
      "6\n",
      "7\n",
      "8\n",
      "9\n",
      "10\n"
     ]
    }
   ],
   "source": [
    "## ANSWER EXERCISE 0\n",
    "\n",
    "num = 10\n",
    "\n",
    "i = 1\n",
    "while i <= num:\n",
    "    print(i)\n",
    "    i+=1"
   ]
  },
  {
   "cell_type": "markdown",
   "id": "5cc9cee9",
   "metadata": {},
   "source": [
    "### Exercise 1\n",
    "\n",
    "Create code that prompts a user to enter a whole number that higher than 10. Use a while loop to repeatedly prompt the user until a valid number is entered.\n",
    "\n",
    "Test the code thoroughly by entering valid and invalid whole numbers and checking that the loop operates correctly."
   ]
  },
  {
   "cell_type": "code",
   "execution_count": 1,
   "id": "53e28528",
   "metadata": {},
   "outputs": [
    {
     "name": "stdout",
     "output_type": "stream",
     "text": [
      "Enter a number that is higher than 10: 5\n",
      "Enter a number that is higher than 10: 9\n",
      "Enter a number that is higher than 10: 10\n",
      "Enter a number that is higher than 10: 12\n"
     ]
    }
   ],
   "source": [
    "# ANSWER EXERCISE 1\n",
    "\n",
    "num = 0\n",
    "\n",
    "while num <= 10:\n",
    "    num = int(input(\"Enter a number that is higher than 10: \"))"
   ]
  },
  {
   "cell_type": "markdown",
   "id": "a208db01",
   "metadata": {},
   "source": [
    "### Exercise 2\n",
    "\n",
    "The code below generates a random whole number between 0 and 10\n",
    "\n",
    "Create code with a while loop to prompt the user to guess the number until the correct number is guessed. Give clues each time like \"higher\" or \"lower\". Print an appropriate message when the number is guessed."
   ]
  },
  {
   "cell_type": "code",
   "execution_count": 2,
   "id": "c50e9072",
   "metadata": {},
   "outputs": [
    {
     "name": "stdout",
     "output_type": "stream",
     "text": [
      "Guess the number between 1 and 10: 2\n",
      "The number is lower than 2\n",
      "Guess the number between 1 and 10: 1\n",
      "You got it!\n"
     ]
    }
   ],
   "source": [
    "import random\n",
    "num = (random.randint(1,10))\n",
    "\n",
    "# ANSWER EXERCISE 2\n",
    "\n",
    "guess = 0\n",
    "\n",
    "while guess != num:\n",
    "    guess = int(input(\"Guess the number between 1 and 10: \"))\n",
    "    if guess == num:\n",
    "        print(\"You got it!\")\n",
    "    elif guess < num:\n",
    "        print(\"The number is higher than\", guess)\n",
    "    else:\n",
    "        print(\"The number is lower than\", guess)"
   ]
  },
  {
   "cell_type": "markdown",
   "id": "13ba7556",
   "metadata": {},
   "source": [
    "### Exercise 3\n",
    "\n",
    "Create a function `countdown()` that receives a number as an argument, and then prints a countdown based on that number. For an argument of 5 it should print:\n",
    "\n",
    "```\n",
    "Counting down...  \n",
    "5  \n",
    "4  \n",
    "3  \n",
    "2  \n",
    "1  \n",
    "Go!   \n",
    "```\n",
    "\n",
    "Use a while loop in your function."
   ]
  },
  {
   "cell_type": "code",
   "execution_count": 3,
   "id": "5393aa66",
   "metadata": {},
   "outputs": [
    {
     "name": "stdout",
     "output_type": "stream",
     "text": [
      "Counting down...\n",
      "5\n",
      "4\n",
      "3\n",
      "2\n",
      "1\n",
      "Go!\n"
     ]
    }
   ],
   "source": [
    "# ANSWER EXERCISE 3\n",
    "\n",
    "def countdown(num):\n",
    "    print(\"Counting down...\")\n",
    "    while num >= 1:\n",
    "        print(num)\n",
    "        num-=1\n",
    "    print(\"Go!\")\n",
    "\n",
    "countdown(5)"
   ]
  },
  {
   "cell_type": "markdown",
   "id": "d581b44f",
   "metadata": {},
   "source": [
    "### Exercise 4\n",
    "\n",
    "Write a python function that receives a whole number as an argument. The number must between 1 and 50 (print an error if this isn't the case). Then, based on that number, the function should prints the square of numbers from 1 to the input number.\n",
    "\n",
    "For an argument of 5, the function should print:\n",
    "\n",
    "```\n",
    "The square of 1 is 1\n",
    "The square of 2 is 4\n",
    "The square of 3 is 9\n",
    "The square of 4 is 16\n",
    "The square of 5 is 25\n",
    "\n",
    "```\n",
    "\n",
    "For an argument of 52, it should print:\n",
    "\n",
    "```\n",
    "Error: The number must be 50 or less\n",
    "```\n",
    "\n",
    "Going further: Rewrite the code so that the user has to enter the number as input, and prompt them to keep entering until a correct number is entered and its squares are printed."
   ]
  },
  {
   "cell_type": "code",
   "execution_count": 6,
   "id": "aaef32c4",
   "metadata": {},
   "outputs": [
    {
     "name": "stdout",
     "output_type": "stream",
     "text": [
      "The square of 1 is 1\n",
      "The square of 2 is 4\n",
      "The square of 3 is 9\n",
      "The square of 4 is 16\n",
      "The square of 5 is 25\n"
     ]
    }
   ],
   "source": [
    "# ANSWER EXERCISE 4\n",
    "\n",
    "def print_squares(num):\n",
    "    if num>50 or num<1:\n",
    "        print(\"Error: The number must be between 1 and 50.\")\n",
    "        return\n",
    "    else:\n",
    "        i=1\n",
    "        while i<=num:\n",
    "            print(\"The square of\", i, \"is\", i*i)\n",
    "            i+=1\n",
    "\n",
    "print_squares(5)"
   ]
  },
  {
   "cell_type": "code",
   "execution_count": 7,
   "id": "d749006b",
   "metadata": {},
   "outputs": [
    {
     "name": "stdout",
     "output_type": "stream",
     "text": [
      "Enter a number between 1 and 50: 51\n",
      "Enter a number between 1 and 50: 0\n",
      "Enter a number between 1 and 50: 5\n",
      "The square of 1 is 1\n",
      "The square of 2 is 4\n",
      "The square of 3 is 9\n",
      "The square of 4 is 16\n",
      "The square of 5 is 25\n"
     ]
    }
   ],
   "source": [
    "## ANSWER EXERCISE 4 GOING FURTHER\n",
    "\n",
    "num = 0\n",
    "\n",
    "while num>50 or num<1:\n",
    "    num = int(input(\"Enter a number between 1 and 50: \"))\n",
    "\n",
    "i=1\n",
    "while i<=num:\n",
    "    print(\"The square of\", i, \"is\", i*i)\n",
    "    i+=1"
   ]
  },
  {
   "cell_type": "markdown",
   "id": "0c4d8e57",
   "metadata": {},
   "source": [
    "### Exercise 5\n",
    "\n",
    "Write a python function that receives a whole number as an argument, and calculates and returns its factorial. The factorial is defined as follows:\n",
    "\n",
    "```\n",
    "n * (n - 1) * (n-2) * (n-3) * ... * (1).\n",
    "\n",
    "```\n",
    "\n",
    "The factorial of 7, for example, is:\n",
    "\n",
    "```\n",
    "7 * 6 * 5 * 4 * 3 * 2 * 1 = 5040\n",
    "```\n",
    "\n",
    "Note that there is a special case: the factorial of 0 is 1.\n",
    "\n",
    "Call your function **calculate_factorial()**. It should use a while loop."
   ]
  },
  {
   "cell_type": "code",
   "execution_count": 11,
   "id": "08a8c395",
   "metadata": {},
   "outputs": [
    {
     "data": {
      "text/plain": [
       "5040"
      ]
     },
     "execution_count": 11,
     "metadata": {},
     "output_type": "execute_result"
    }
   ],
   "source": [
    "# ANSWER EXERCISE 5\n",
    "\n",
    "def calculate_factorial(num):\n",
    "    \n",
    "    if num==0:\n",
    "        return 1\n",
    "    else:\n",
    "        factorial = 1\n",
    "        while num>0:\n",
    "            factorial = factorial*num\n",
    "            num-=1\n",
    "        return factorial\n",
    "\n",
    "calculate_factorial(7)"
   ]
  },
  {
   "cell_type": "markdown",
   "id": "6291f116",
   "metadata": {},
   "source": [
    "### Exercise 6\n",
    "\n",
    "Write code that prompts the user to input a whole number from 1 to 5. If the user enters a number that is not within this range, prompt them to re-enter a number until an appropriate value is entered. \n",
    "\n",
    "When an appropriate number is received, print the number in word form, e.g. for the number `4`, print `four`."
   ]
  },
  {
   "cell_type": "code",
   "execution_count": 12,
   "id": "679861a1",
   "metadata": {},
   "outputs": [
    {
     "name": "stdout",
     "output_type": "stream",
     "text": [
      "Enter a number between 1 and 5: 8\n",
      "Enter a number between 1 and 5: 0\n",
      "Enter a number between 1 and 5: 3\n",
      "three\n"
     ]
    }
   ],
   "source": [
    "## ANSWER EXERCISE 6\n",
    "\n",
    "num = 0\n",
    "\n",
    "while num >5 or num<1:\n",
    "    num = int(input(\"Enter a number between 1 and 5: \"))\n",
    "\n",
    "if num == 1:\n",
    "    print(\"one\")\n",
    "elif num == 2:\n",
    "    print(\"two\")\n",
    "elif num ==3:\n",
    "    print(\"three\")\n",
    "elif num == 4:\n",
    "    print(\"four\")\n",
    "else:\n",
    "    print(\"five\")"
   ]
  },
  {
   "cell_type": "code",
   "execution_count": null,
   "id": "51c2d079",
   "metadata": {},
   "outputs": [],
   "source": []
  }
 ],
 "metadata": {
  "kernelspec": {
   "display_name": "Python 3 (ipykernel)",
   "language": "python",
   "name": "python3"
  },
  "language_info": {
   "codemirror_mode": {
    "name": "ipython",
    "version": 3
   },
   "file_extension": ".py",
   "mimetype": "text/x-python",
   "name": "python",
   "nbconvert_exporter": "python",
   "pygments_lexer": "ipython3",
   "version": "3.10.9"
  }
 },
 "nbformat": 4,
 "nbformat_minor": 5
}
